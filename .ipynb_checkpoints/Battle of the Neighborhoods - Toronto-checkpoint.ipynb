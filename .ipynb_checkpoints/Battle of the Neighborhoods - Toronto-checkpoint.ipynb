{
 "cells": [
  {
   "cell_type": "markdown",
   "metadata": {},
   "source": [
    "<h1 style=\"color:black;text-align:center\">Capstone Project</h1>\n",
    "<h1 style=\"color:slateblue;text-align:center\">IBM Professional Certificate in Data Science</h1><br><br>\n",
    "<h2 style=\"color:gray;text-align:center\"><i>Opening an African Restaurant in Downtown Toronto, Canada</i></h2><br>\n",
    "<img align=\"center\"  src=\"https://www.senecacollege.ca/content/dam/projects/seneca/homepage-assets/homepage_intl.jpg\" width=700 height=400></img><br></br>\n",
    "<p style=\"color:slateblue;text-align:center;font-size:24px\">By Isaac Nyamekye<br><br><i>April 2020</i></p>"
   ]
  },
  {
   "cell_type": "markdown",
   "metadata": {},
   "source": [
    "---\n",
    "# Table of contents\n",
    "* [Background and Business Problem](#introduction)\n",
    "* [Data](#data)\n",
    "* [Methodology and Analysis](#methodology)\n",
    "* [Results and Discussion](#results)\n",
    "* [Conclusions](#conclusions)"
   ]
  },
  {
   "cell_type": "markdown",
   "metadata": {},
   "source": [
    "# Background and Business Problem <a name=\"introduction\"></a>"
   ]
  },
  {
   "cell_type": "markdown",
   "metadata": {},
   "source": [
    "<p style=\"font-size:24px\">Toronto is the most populous city in Canada and the provincial capital of Ontario. The city is very diverse and home to a large immigrant population. Because of the cultural diversity of its inhabitants, the city has a dynamic and diverse culinary scene.<br><br>\n",
    "However, there are a few Ghanaian (West Africa) restaurants, especially, in downtown Toronto. An African restaurant chain would like to change this by opening a couple of Ghanaian restaurants in downtown Toronto. <br><br>\n",
    "To reduce competition with other African restaurants, the company would like to open their Ghanaian restaurants in neighbourhoods that have no or very few African restaurants. The purpose of this project would be to identify such neighbourhoods in downtown Toronto.<br><br>\n",
    "The target audience of this project is mainly the senior executives of the African restaurant chain. The report would enable them make evidence-based decision on the best neighborhoods to open their restaurants.\n",
    "</p>"
   ]
  },
  {
   "cell_type": "markdown",
   "metadata": {},
   "source": [
    "# Data <a name=\"data\"></a>"
   ]
  },
  {
   "cell_type": "markdown",
   "metadata": {},
   "source": [
    "<p style=\"font-size:24px\">This project used of data from:<br><ul style=\"list-style-type:circle;\">\n",
    "    <li style=\"font-size:24px\"><a href=\"https://en.wikipedia.org/wiki/List_of_postal_codes_of_Canada:_M\"><b>Toronto Wikipedia page</b></a>: I scraped postal codes, boroughs and neighbourhoods names from this page. Since the focus of my project is downtown Toronto, I only considered neighbourhoods in that borough.</li><br>\n",
    "    <li style=\"font-size:24px\"><b>Geopy package:</b> This package was used to generate geolocation data (latitude and longitude) for the downtown Toronto neighbourhoods.</li><br>\n",
    "    <li style=\"font-size:24px\"><b>Foursquare API:</b> From the location data obtained from web scraping and geocoding, I used the Foursquare API to generate African restaurant venue details for the respective the neighbourhoods.</li>"
   ]
  },
  {
   "cell_type": "markdown",
   "metadata": {},
   "source": [
    "# Methodology and Analysis <a name=\"methodology\"></a>"
   ]
  },
  {
   "cell_type": "markdown",
   "metadata": {},
   "source": [
    "<p style=\"font-size:24px\">This section details the process I used to solve the business problem. The process comprised of:<br><ul style=\"list-style-type:circle;\">\n",
    "    <li style=\"font-size:24px\"><b>Data Acquisition and Cleaning:</b> This subsection outlines how I scrapped and cleaned the neighbourhood data from Toronto's Wikipedia Site. I also show how I used the Geopy library to generate the geolocation data need for my analysis.</li><br>\n",
    "    <li style=\"font-size:24px\"><b>Exploratory Data Analysis:</b> In this subsection, I explore how the neighbourhoods in downtown Toronto. I used the folium library to generate maps of the neighbourhoods and the Foursqaure APi to analysis the most common venues in each neighbourhood.</li><br>\n",
    "    <li style=\"font-size:24px\"><b>Model Development:</b> This subsection shows the modeling process. I used K-mean clustering to determine neighbourhood with no or few African restuarants</li>"
   ]
  },
  {
   "cell_type": "markdown",
   "metadata": {},
   "source": [
    "## Data Acquistion and Cleaning"
   ]
  },
  {
   "cell_type": "markdown",
   "metadata": {},
   "source": [
    "### Scrapping Toronto Neighborhoods Data from Wikipedia"
   ]
  },
  {
   "cell_type": "code",
   "execution_count": 1,
   "metadata": {},
   "outputs": [],
   "source": [
    "#import libraries\n",
    "import requests\n",
    "import pandas as pd\n",
    "import numpy as np\n",
    "from bs4 import BeautifulSoup"
   ]
  },
  {
   "cell_type": "code",
   "execution_count": 2,
   "metadata": {},
   "outputs": [],
   "source": [
    "website_url = requests.get('https://en.wikipedia.org/wiki/List_of_postal_codes_of_Canada:_M').text\n",
    "\n",
    "soup = BeautifulSoup(website_url,'lxml')\n",
    "My_table = soup.find('table',{'class':'wikitable'})"
   ]
  },
  {
   "cell_type": "code",
   "execution_count": 3,
   "metadata": {},
   "outputs": [],
   "source": [
    "ths = My_table.findAll('th')\n",
    "headings = [th.text.strip() for th in ths] # Create a list of column headers using the ths marker in the html\n",
    "\n",
    "table_rows = My_table.find_all('tr')\n",
    "\n",
    "l = []\n",
    "for tr in table_rows:\n",
    "    td = tr.find_all('td')\n",
    "    row = [tr.text.strip().replace('/',',') for tr in td if tr.text.strip()] # This is separating Neighborhoods with the same postal code with \",\"\n",
    "    if row:\n",
    "        l.append(row)\n",
    "        \n",
    "df = pd.DataFrame(l, columns = headings)"
   ]
  },
  {
   "cell_type": "code",
   "execution_count": 4,
   "metadata": {},
   "outputs": [
    {
     "name": "stdout",
     "output_type": "stream",
     "text": [
      "(103, 3)\n"
     ]
    },
    {
     "data": {
      "text/html": [
       "<div>\n",
       "<style scoped>\n",
       "    .dataframe tbody tr th:only-of-type {\n",
       "        vertical-align: middle;\n",
       "    }\n",
       "\n",
       "    .dataframe tbody tr th {\n",
       "        vertical-align: top;\n",
       "    }\n",
       "\n",
       "    .dataframe thead th {\n",
       "        text-align: right;\n",
       "    }\n",
       "</style>\n",
       "<table border=\"1\" class=\"dataframe\">\n",
       "  <thead>\n",
       "    <tr style=\"text-align: right;\">\n",
       "      <th></th>\n",
       "      <th>Postal code</th>\n",
       "      <th>Borough</th>\n",
       "      <th>Neighborhood</th>\n",
       "    </tr>\n",
       "  </thead>\n",
       "  <tbody>\n",
       "    <tr>\n",
       "      <td>2</td>\n",
       "      <td>M3A</td>\n",
       "      <td>North York</td>\n",
       "      <td>Parkwoods</td>\n",
       "    </tr>\n",
       "    <tr>\n",
       "      <td>3</td>\n",
       "      <td>M4A</td>\n",
       "      <td>North York</td>\n",
       "      <td>Victoria Village</td>\n",
       "    </tr>\n",
       "    <tr>\n",
       "      <td>4</td>\n",
       "      <td>M5A</td>\n",
       "      <td>Downtown Toronto</td>\n",
       "      <td>Regent Park , Harbourfront</td>\n",
       "    </tr>\n",
       "    <tr>\n",
       "      <td>5</td>\n",
       "      <td>M6A</td>\n",
       "      <td>North York</td>\n",
       "      <td>Lawrence Manor , Lawrence Heights</td>\n",
       "    </tr>\n",
       "    <tr>\n",
       "      <td>6</td>\n",
       "      <td>M7A</td>\n",
       "      <td>Downtown Toronto</td>\n",
       "      <td>Queen's Park , Ontario Provincial Government</td>\n",
       "    </tr>\n",
       "  </tbody>\n",
       "</table>\n",
       "</div>"
      ],
      "text/plain": [
       "  Postal code           Borough                                  Neighborhood\n",
       "2         M3A        North York                                     Parkwoods\n",
       "3         M4A        North York                              Victoria Village\n",
       "4         M5A  Downtown Toronto                    Regent Park , Harbourfront\n",
       "5         M6A        North York             Lawrence Manor , Lawrence Heights\n",
       "6         M7A  Downtown Toronto  Queen's Park , Ontario Provincial Government"
      ]
     },
     "execution_count": 4,
     "metadata": {},
     "output_type": "execute_result"
    }
   ],
   "source": [
    "# Dropping rows with 'Not assigned' Borough\n",
    "df.drop(df[df['Borough'] == 'Not assigned'].index, inplace=True) \n",
    "df.reset_index(drop=True)\n",
    "\n",
    "#Replace missing Neighborhood values with their respective Borough\n",
    "df['Neighborhood'].fillna(df['Borough'], inplace=True)\n",
    "print(df.shape)\n",
    "df.head()"
   ]
  },
  {
   "cell_type": "markdown",
   "metadata": {},
   "source": [
    "Since the focus of my analysis is neighbourhoods in Downtown Toront, I filter out only the Downtown borough"
   ]
  },
  {
   "cell_type": "code",
   "execution_count": 5,
   "metadata": {},
   "outputs": [
    {
     "name": "stdout",
     "output_type": "stream",
     "text": [
      "(19, 3)\n"
     ]
    },
    {
     "data": {
      "text/html": [
       "<div>\n",
       "<style scoped>\n",
       "    .dataframe tbody tr th:only-of-type {\n",
       "        vertical-align: middle;\n",
       "    }\n",
       "\n",
       "    .dataframe tbody tr th {\n",
       "        vertical-align: top;\n",
       "    }\n",
       "\n",
       "    .dataframe thead th {\n",
       "        text-align: right;\n",
       "    }\n",
       "</style>\n",
       "<table border=\"1\" class=\"dataframe\">\n",
       "  <thead>\n",
       "    <tr style=\"text-align: right;\">\n",
       "      <th></th>\n",
       "      <th>Postal code</th>\n",
       "      <th>Borough</th>\n",
       "      <th>Neighborhood</th>\n",
       "    </tr>\n",
       "  </thead>\n",
       "  <tbody>\n",
       "    <tr>\n",
       "      <td>4</td>\n",
       "      <td>M5A</td>\n",
       "      <td>Downtown Toronto</td>\n",
       "      <td>Regent Park , Harbourfront</td>\n",
       "    </tr>\n",
       "    <tr>\n",
       "      <td>6</td>\n",
       "      <td>M7A</td>\n",
       "      <td>Downtown Toronto</td>\n",
       "      <td>Queen's Park , Ontario Provincial Government</td>\n",
       "    </tr>\n",
       "    <tr>\n",
       "      <td>13</td>\n",
       "      <td>M5B</td>\n",
       "      <td>Downtown Toronto</td>\n",
       "      <td>Garden District, Ryerson</td>\n",
       "    </tr>\n",
       "    <tr>\n",
       "      <td>22</td>\n",
       "      <td>M5C</td>\n",
       "      <td>Downtown Toronto</td>\n",
       "      <td>St. James Town</td>\n",
       "    </tr>\n",
       "    <tr>\n",
       "      <td>31</td>\n",
       "      <td>M5E</td>\n",
       "      <td>Downtown Toronto</td>\n",
       "      <td>Berczy Park</td>\n",
       "    </tr>\n",
       "  </tbody>\n",
       "</table>\n",
       "</div>"
      ],
      "text/plain": [
       "   Postal code           Borough                                  Neighborhood\n",
       "4          M5A  Downtown Toronto                    Regent Park , Harbourfront\n",
       "6          M7A  Downtown Toronto  Queen's Park , Ontario Provincial Government\n",
       "13         M5B  Downtown Toronto                      Garden District, Ryerson\n",
       "22         M5C  Downtown Toronto                                St. James Town\n",
       "31         M5E  Downtown Toronto                                   Berczy Park"
      ]
     },
     "execution_count": 5,
     "metadata": {},
     "output_type": "execute_result"
    }
   ],
   "source": [
    "# Selecting data for Downtown Toronto\n",
    "Toronto_data = df[df['Borough']==\"Downtown Toronto\"]\n",
    "print(Toronto_data.shape)\n",
    "Toronto_data.head()"
   ]
  },
  {
   "cell_type": "markdown",
   "metadata": {},
   "source": [
    "### Generate Latitude and Longitude for the Neighborhoods "
   ]
  },
  {
   "cell_type": "markdown",
   "metadata": {},
   "source": [
    "In this part, I generate latitude and longitude information for the downtown neoghbourhoods using the pgeocode library. This will make the data usable in Foursquare."
   ]
  },
  {
   "cell_type": "code",
   "execution_count": 6,
   "metadata": {},
   "outputs": [
    {
     "name": "stdout",
     "output_type": "stream",
     "text": [
      "(19, 5)\n"
     ]
    },
    {
     "name": "stderr",
     "output_type": "stream",
     "text": [
      "C:\\Users\\inyamekye\\AppData\\Local\\Continuum\\anaconda3\\lib\\site-packages\\ipykernel_launcher.py:16: SettingWithCopyWarning: \n",
      "A value is trying to be set on a copy of a slice from a DataFrame.\n",
      "Try using .loc[row_indexer,col_indexer] = value instead\n",
      "\n",
      "See the caveats in the documentation: http://pandas.pydata.org/pandas-docs/stable/user_guide/indexing.html#returning-a-view-versus-a-copy\n",
      "  app.launch_new_instance()\n",
      "C:\\Users\\inyamekye\\AppData\\Local\\Continuum\\anaconda3\\lib\\site-packages\\ipykernel_launcher.py:18: SettingWithCopyWarning: \n",
      "A value is trying to be set on a copy of a slice from a DataFrame.\n",
      "Try using .loc[row_indexer,col_indexer] = value instead\n",
      "\n",
      "See the caveats in the documentation: http://pandas.pydata.org/pandas-docs/stable/user_guide/indexing.html#returning-a-view-versus-a-copy\n"
     ]
    },
    {
     "data": {
      "text/html": [
       "<div>\n",
       "<style scoped>\n",
       "    .dataframe tbody tr th:only-of-type {\n",
       "        vertical-align: middle;\n",
       "    }\n",
       "\n",
       "    .dataframe tbody tr th {\n",
       "        vertical-align: top;\n",
       "    }\n",
       "\n",
       "    .dataframe thead th {\n",
       "        text-align: right;\n",
       "    }\n",
       "</style>\n",
       "<table border=\"1\" class=\"dataframe\">\n",
       "  <thead>\n",
       "    <tr style=\"text-align: right;\">\n",
       "      <th></th>\n",
       "      <th>Postal code</th>\n",
       "      <th>Borough</th>\n",
       "      <th>Neighborhood</th>\n",
       "      <th>Latitude</th>\n",
       "      <th>Longitude</th>\n",
       "    </tr>\n",
       "  </thead>\n",
       "  <tbody>\n",
       "    <tr>\n",
       "      <td>4</td>\n",
       "      <td>M5A</td>\n",
       "      <td>Downtown Toronto</td>\n",
       "      <td>Regent Park , Harbourfront</td>\n",
       "      <td>43.6555</td>\n",
       "      <td>-79.3626</td>\n",
       "    </tr>\n",
       "    <tr>\n",
       "      <td>6</td>\n",
       "      <td>M7A</td>\n",
       "      <td>Downtown Toronto</td>\n",
       "      <td>Queen's Park , Ontario Provincial Government</td>\n",
       "      <td>43.6641</td>\n",
       "      <td>-79.3889</td>\n",
       "    </tr>\n",
       "    <tr>\n",
       "      <td>13</td>\n",
       "      <td>M5B</td>\n",
       "      <td>Downtown Toronto</td>\n",
       "      <td>Garden District, Ryerson</td>\n",
       "      <td>43.6572</td>\n",
       "      <td>-79.3783</td>\n",
       "    </tr>\n",
       "    <tr>\n",
       "      <td>22</td>\n",
       "      <td>M5C</td>\n",
       "      <td>Downtown Toronto</td>\n",
       "      <td>St. James Town</td>\n",
       "      <td>43.6513</td>\n",
       "      <td>-79.3756</td>\n",
       "    </tr>\n",
       "    <tr>\n",
       "      <td>31</td>\n",
       "      <td>M5E</td>\n",
       "      <td>Downtown Toronto</td>\n",
       "      <td>Berczy Park</td>\n",
       "      <td>43.6456</td>\n",
       "      <td>-79.3754</td>\n",
       "    </tr>\n",
       "  </tbody>\n",
       "</table>\n",
       "</div>"
      ],
      "text/plain": [
       "   Postal code           Borough  \\\n",
       "4          M5A  Downtown Toronto   \n",
       "6          M7A  Downtown Toronto   \n",
       "13         M5B  Downtown Toronto   \n",
       "22         M5C  Downtown Toronto   \n",
       "31         M5E  Downtown Toronto   \n",
       "\n",
       "                                    Neighborhood  Latitude  Longitude  \n",
       "4                     Regent Park , Harbourfront   43.6555   -79.3626  \n",
       "6   Queen's Park , Ontario Provincial Government   43.6641   -79.3889  \n",
       "13                      Garden District, Ryerson   43.6572   -79.3783  \n",
       "22                                St. James Town   43.6513   -79.3756  \n",
       "31                                   Berczy Park   43.6456   -79.3754  "
      ]
     },
     "execution_count": 6,
     "metadata": {},
     "output_type": "execute_result"
    }
   ],
   "source": [
    "import pgeocode\n",
    "\n",
    "list_lat = []\n",
    "list_long = []\n",
    "\n",
    "for index,row in Toronto_data.iterrows():\n",
    "    Postal_code = row['Postal code']\n",
    "    nomi =  pgeocode.Nominatim('ca')\n",
    "    results = nomi.query_postal_code(Postal_code)\n",
    "    lat = results['latitude']\n",
    "    long = results['longitude']\n",
    "    \n",
    "    list_lat.append(lat)\n",
    "    list_long.append(long)\n",
    "    \n",
    "Toronto_data['Latitude'] = list_lat   \n",
    "\n",
    "Toronto_data['Longitude'] = list_long\n",
    "\n",
    "print(Toronto_data.shape)\n",
    "Toronto_data.head()"
   ]
  },
  {
   "cell_type": "code",
   "execution_count": null,
   "metadata": {},
   "outputs": [],
   "source": []
  },
  {
   "cell_type": "markdown",
   "metadata": {},
   "source": [
    "## Exploratory Data Analysis"
   ]
  },
  {
   "cell_type": "markdown",
   "metadata": {},
   "source": [
    "### Explore the Neighbourhoods"
   ]
  },
  {
   "cell_type": "markdown",
   "metadata": {},
   "source": [
    "In this section, I explore the various neighbourhoods in Downtown Toronto."
   ]
  },
  {
   "cell_type": "code",
   "execution_count": 7,
   "metadata": {},
   "outputs": [],
   "source": [
    "#import libraries\n",
    "from geopy.geocoders import Nominatim # convert an address into latitude and longitude values\n",
    "\n",
    "# Matplotlib and associated plotting modules\n",
    "import matplotlib.cm as cm\n",
    "import matplotlib.colors as colors\n",
    "\n",
    "# import k-means for clustering stage\n",
    "from sklearn.cluster import KMeans\n",
    "\n",
    "import folium # map rendering library"
   ]
  },
  {
   "cell_type": "markdown",
   "metadata": {},
   "source": [
    "#### Use geopy library to get the lat and long of Downtown Toronto"
   ]
  },
  {
   "cell_type": "code",
   "execution_count": 8,
   "metadata": {},
   "outputs": [
    {
     "name": "stdout",
     "output_type": "stream",
     "text": [
      "The geograpical coordinate of Downtown Toronto are 43.6563221, -79.3809161.\n"
     ]
    }
   ],
   "source": [
    "address = 'Downtown Toronto, ON'\n",
    "\n",
    "geolocator = Nominatim(user_agent=\"on_explorer\")\n",
    "location = geolocator.geocode(address)\n",
    "latitude = location.latitude\n",
    "longitude = location.longitude\n",
    "print('The geograpical coordinate of Downtown Toronto are {}, {}.'.format(latitude, longitude))"
   ]
  },
  {
   "cell_type": "markdown",
   "metadata": {},
   "source": [
    "#### Create a map of Toronto with downtown neighborhoods superimposed"
   ]
  },
  {
   "cell_type": "code",
   "execution_count": 9,
   "metadata": {
    "scrolled": true
   },
   "outputs": [
    {
     "data": {
      "text/html": [
       "<div style=\"width:100%;\"><div style=\"position:relative;width:100%;height:0;padding-bottom:60%;\"><iframe src=\"about:blank\" style=\"position:absolute;width:100%;height:100%;left:0;top:0;border:none !important;\" data-html=PCFET0NUWVBFIGh0bWw+CjxoZWFkPiAgICAKICAgIDxtZXRhIGh0dHAtZXF1aXY9ImNvbnRlbnQtdHlwZSIgY29udGVudD0idGV4dC9odG1sOyBjaGFyc2V0PVVURi04IiAvPgogICAgCiAgICAgICAgPHNjcmlwdD4KICAgICAgICAgICAgTF9OT19UT1VDSCA9IGZhbHNlOwogICAgICAgICAgICBMX0RJU0FCTEVfM0QgPSBmYWxzZTsKICAgICAgICA8L3NjcmlwdD4KICAgIAogICAgPHNjcmlwdCBzcmM9Imh0dHBzOi8vY2RuLmpzZGVsaXZyLm5ldC9ucG0vbGVhZmxldEAxLjUuMS9kaXN0L2xlYWZsZXQuanMiPjwvc2NyaXB0PgogICAgPHNjcmlwdCBzcmM9Imh0dHBzOi8vY29kZS5qcXVlcnkuY29tL2pxdWVyeS0xLjEyLjQubWluLmpzIj48L3NjcmlwdD4KICAgIDxzY3JpcHQgc3JjPSJodHRwczovL21heGNkbi5ib290c3RyYXBjZG4uY29tL2Jvb3RzdHJhcC8zLjIuMC9qcy9ib290c3RyYXAubWluLmpzIj48L3NjcmlwdD4KICAgIDxzY3JpcHQgc3JjPSJodHRwczovL2NkbmpzLmNsb3VkZmxhcmUuY29tL2FqYXgvbGlicy9MZWFmbGV0LmF3ZXNvbWUtbWFya2Vycy8yLjAuMi9sZWFmbGV0LmF3ZXNvbWUtbWFya2Vycy5qcyI+PC9zY3JpcHQ+CiAgICA8bGluayByZWw9InN0eWxlc2hlZXQiIGhyZWY9Imh0dHBzOi8vY2RuLmpzZGVsaXZyLm5ldC9ucG0vbGVhZmxldEAxLjUuMS9kaXN0L2xlYWZsZXQuY3NzIi8+CiAgICA8bGluayByZWw9InN0eWxlc2hlZXQiIGhyZWY9Imh0dHBzOi8vbWF4Y2RuLmJvb3RzdHJhcGNkbi5jb20vYm9vdHN0cmFwLzMuMi4wL2Nzcy9ib290c3RyYXAubWluLmNzcyIvPgogICAgPGxpbmsgcmVsPSJzdHlsZXNoZWV0IiBocmVmPSJodHRwczovL21heGNkbi5ib290c3RyYXBjZG4uY29tL2Jvb3RzdHJhcC8zLjIuMC9jc3MvYm9vdHN0cmFwLXRoZW1lLm1pbi5jc3MiLz4KICAgIDxsaW5rIHJlbD0ic3R5bGVzaGVldCIgaHJlZj0iaHR0cHM6Ly9tYXhjZG4uYm9vdHN0cmFwY2RuLmNvbS9mb250LWF3ZXNvbWUvNC42LjMvY3NzL2ZvbnQtYXdlc29tZS5taW4uY3NzIi8+CiAgICA8bGluayByZWw9InN0eWxlc2hlZXQiIGhyZWY9Imh0dHBzOi8vY2RuanMuY2xvdWRmbGFyZS5jb20vYWpheC9saWJzL0xlYWZsZXQuYXdlc29tZS1tYXJrZXJzLzIuMC4yL2xlYWZsZXQuYXdlc29tZS1tYXJrZXJzLmNzcyIvPgogICAgPGxpbmsgcmVsPSJzdHlsZXNoZWV0IiBocmVmPSJodHRwczovL3Jhd2Nkbi5naXRoYWNrLmNvbS9weXRob24tdmlzdWFsaXphdGlvbi9mb2xpdW0vbWFzdGVyL2ZvbGl1bS90ZW1wbGF0ZXMvbGVhZmxldC5hd2Vzb21lLnJvdGF0ZS5jc3MiLz4KICAgIDxzdHlsZT5odG1sLCBib2R5IHt3aWR0aDogMTAwJTtoZWlnaHQ6IDEwMCU7bWFyZ2luOiAwO3BhZGRpbmc6IDA7fTwvc3R5bGU+CiAgICA8c3R5bGU+I21hcCB7cG9zaXRpb246YWJzb2x1dGU7dG9wOjA7Ym90dG9tOjA7cmlnaHQ6MDtsZWZ0OjA7fTwvc3R5bGU+CiAgICAKICAgICAgICAgICAgPG1ldGEgbmFtZT0idmlld3BvcnQiIGNvbnRlbnQ9IndpZHRoPWRldmljZS13aWR0aCwKICAgICAgICAgICAgICAgIGluaXRpYWwtc2NhbGU9MS4wLCBtYXhpbXVtLXNjYWxlPTEuMCwgdXNlci1zY2FsYWJsZT1ubyIgLz4KICAgICAgICAgICAgPHN0eWxlPgogICAgICAgICAgICAgICAgI21hcF9kZmNkMGE1ODdhNzY0ZTE0YjU2ZTE5ZDdlZGVjZWMyZCB7CiAgICAgICAgICAgICAgICAgICAgcG9zaXRpb246IHJlbGF0aXZlOwogICAgICAgICAgICAgICAgICAgIHdpZHRoOiAxMDAuMCU7CiAgICAgICAgICAgICAgICAgICAgaGVpZ2h0OiAxMDAuMCU7CiAgICAgICAgICAgICAgICAgICAgbGVmdDogMC4wJTsKICAgICAgICAgICAgICAgICAgICB0b3A6IDAuMCU7CiAgICAgICAgICAgICAgICB9CiAgICAgICAgICAgIDwvc3R5bGU+CiAgICAgICAgCjwvaGVhZD4KPGJvZHk+ICAgIAogICAgCiAgICAgICAgICAgIDxkaXYgY2xhc3M9ImZvbGl1bS1tYXAiIGlkPSJtYXBfZGZjZDBhNTg3YTc2NGUxNGI1NmUxOWQ3ZWRlY2VjMmQiID48L2Rpdj4KICAgICAgICAKPC9ib2R5Pgo8c2NyaXB0PiAgICAKICAgIAogICAgICAgICAgICB2YXIgbWFwX2RmY2QwYTU4N2E3NjRlMTRiNTZlMTlkN2VkZWNlYzJkID0gTC5tYXAoCiAgICAgICAgICAgICAgICAibWFwX2RmY2QwYTU4N2E3NjRlMTRiNTZlMTlkN2VkZWNlYzJkIiwKICAgICAgICAgICAgICAgIHsKICAgICAgICAgICAgICAgICAgICBjZW50ZXI6IFs0My42NTYzMjIxLCAtNzkuMzgwOTE2MV0sCiAgICAgICAgICAgICAgICAgICAgY3JzOiBMLkNSUy5FUFNHMzg1NywKICAgICAgICAgICAgICAgICAgICB6b29tOiAxMiwKICAgICAgICAgICAgICAgICAgICB6b29tQ29udHJvbDogdHJ1ZSwKICAgICAgICAgICAgICAgICAgICBwcmVmZXJDYW52YXM6IGZhbHNlLAogICAgICAgICAgICAgICAgfQogICAgICAgICAgICApOwoKICAgICAgICAgICAgCgogICAgICAgIAogICAgCiAgICAgICAgICAgIHZhciB0aWxlX2xheWVyX2JjMmJjNzNmNDU0ZTQ3YmRhNGZkOTVjYmE2NzJkMjYyID0gTC50aWxlTGF5ZXIoCiAgICAgICAgICAgICAgICAiaHR0cHM6Ly97c30udGlsZS5vcGVuc3RyZWV0bWFwLm9yZy97en0ve3h9L3t5fS5wbmciLAogICAgICAgICAgICAgICAgeyJhdHRyaWJ1dGlvbiI6ICJEYXRhIGJ5IFx1MDAyNmNvcHk7IFx1MDAzY2EgaHJlZj1cImh0dHA6Ly9vcGVuc3RyZWV0bWFwLm9yZ1wiXHUwMDNlT3BlblN0cmVldE1hcFx1MDAzYy9hXHUwMDNlLCB1bmRlciBcdTAwM2NhIGhyZWY9XCJodHRwOi8vd3d3Lm9wZW5zdHJlZXRtYXAub3JnL2NvcHlyaWdodFwiXHUwMDNlT0RiTFx1MDAzYy9hXHUwMDNlLiIsICJkZXRlY3RSZXRpbmEiOiBmYWxzZSwgIm1heE5hdGl2ZVpvb20iOiAxOCwgIm1heFpvb20iOiAxOCwgIm1pblpvb20iOiAwLCAibm9XcmFwIjogZmFsc2UsICJvcGFjaXR5IjogMSwgInN1YmRvbWFpbnMiOiAiYWJjIiwgInRtcyI6IGZhbHNlfQogICAgICAgICAgICApLmFkZFRvKG1hcF9kZmNkMGE1ODdhNzY0ZTE0YjU2ZTE5ZDdlZGVjZWMyZCk7CiAgICAgICAgCiAgICAKICAgICAgICAgICAgdmFyIGNpcmNsZV9tYXJrZXJfODY5ZWUwMzliNGVjNGE0ZjhlNDY1YmYzMjAyYzhjODEgPSBMLmNpcmNsZU1hcmtlcigKICAgICAgICAgICAgICAgIFs0My42NTU1LCAtNzkuMzYyNl0sCiAgICAgICAgICAgICAgICB7ImJ1YmJsaW5nTW91c2VFdmVudHMiOiB0cnVlLCAiY29sb3IiOiAiYmx1ZSIsICJkYXNoQXJyYXkiOiBudWxsLCAiZGFzaE9mZnNldCI6IG51bGwsICJmaWxsIjogdHJ1ZSwgImZpbGxDb2xvciI6ICIjMzE4NmNjIiwgImZpbGxPcGFjaXR5IjogMC43LCAiZmlsbFJ1bGUiOiAiZXZlbm9kZCIsICJsaW5lQ2FwIjogInJvdW5kIiwgImxpbmVKb2luIjogInJvdW5kIiwgIm9wYWNpdHkiOiAxLjAsICJyYWRpdXMiOiA1LCAic3Ryb2tlIjogdHJ1ZSwgIndlaWdodCI6IDN9CiAgICAgICAgICAgICkuYWRkVG8obWFwX2RmY2QwYTU4N2E3NjRlMTRiNTZlMTlkN2VkZWNlYzJkKTsKICAgICAgICAKICAgIAogICAgICAgIHZhciBwb3B1cF82YmFhZWU3YjRhNjQ0MjBmODBmNjIyZjk5MzBhNDY2OCA9IEwucG9wdXAoeyJtYXhXaWR0aCI6ICIxMDAlIn0pOwoKICAgICAgICAKICAgICAgICAgICAgdmFyIGh0bWxfODU0MGY4MDc5ZWZiNDQ4OWJkNGRkNTVmZWZmY2U0MTQgPSAkKGA8ZGl2IGlkPSJodG1sXzg1NDBmODA3OWVmYjQ0ODliZDRkZDU1ZmVmZmNlNDE0IiBzdHlsZT0id2lkdGg6IDEwMC4wJTsgaGVpZ2h0OiAxMDAuMCU7Ij5SZWdlbnQgUGFyayAsIEhhcmJvdXJmcm9udCwgRG93bnRvd24gVG9yb250bzwvZGl2PmApWzBdOwogICAgICAgICAgICBwb3B1cF82YmFhZWU3YjRhNjQ0MjBmODBmNjIyZjk5MzBhNDY2OC5zZXRDb250ZW50KGh0bWxfODU0MGY4MDc5ZWZiNDQ4OWJkNGRkNTVmZWZmY2U0MTQpOwogICAgICAgIAoKICAgICAgICBjaXJjbGVfbWFya2VyXzg2OWVlMDM5YjRlYzRhNGY4ZTQ2NWJmMzIwMmM4YzgxLmJpbmRQb3B1cChwb3B1cF82YmFhZWU3YjRhNjQ0MjBmODBmNjIyZjk5MzBhNDY2OCkKICAgICAgICA7CgogICAgICAgIAogICAgCiAgICAKICAgICAgICAgICAgdmFyIGNpcmNsZV9tYXJrZXJfNGEwZjI0Y2RlNjUwNDhkN2E0OTk3ZWI3YjRjNDg5MWIgPSBMLmNpcmNsZU1hcmtlcigKICAgICAgICAgICAgICAgIFs0My42NjQxLCAtNzkuMzg4OV0sCiAgICAgICAgICAgICAgICB7ImJ1YmJsaW5nTW91c2VFdmVudHMiOiB0cnVlLCAiY29sb3IiOiAiYmx1ZSIsICJkYXNoQXJyYXkiOiBudWxsLCAiZGFzaE9mZnNldCI6IG51bGwsICJmaWxsIjogdHJ1ZSwgImZpbGxDb2xvciI6ICIjMzE4NmNjIiwgImZpbGxPcGFjaXR5IjogMC43LCAiZmlsbFJ1bGUiOiAiZXZlbm9kZCIsICJsaW5lQ2FwIjogInJvdW5kIiwgImxpbmVKb2luIjogInJvdW5kIiwgIm9wYWNpdHkiOiAxLjAsICJyYWRpdXMiOiA1LCAic3Ryb2tlIjogdHJ1ZSwgIndlaWdodCI6IDN9CiAgICAgICAgICAgICkuYWRkVG8obWFwX2RmY2QwYTU4N2E3NjRlMTRiNTZlMTlkN2VkZWNlYzJkKTsKICAgICAgICAKICAgIAogICAgICAgIHZhciBwb3B1cF9hNDlhOWE1OTY1MTg0ZTI4ODZlZWQ0MGMxZmM1NjZjMiA9IEwucG9wdXAoeyJtYXhXaWR0aCI6ICIxMDAlIn0pOwoKICAgICAgICAKICAgICAgICAgICAgdmFyIGh0bWxfOWM1YWJmNzllOTkwNDZhMWFkOTZmYjUwZmJhNzZhZWEgPSAkKGA8ZGl2IGlkPSJodG1sXzljNWFiZjc5ZTk5MDQ2YTFhZDk2ZmI1MGZiYTc2YWVhIiBzdHlsZT0id2lkdGg6IDEwMC4wJTsgaGVpZ2h0OiAxMDAuMCU7Ij5RdWVlbiYjMzk7cyBQYXJrICwgT250YXJpbyBQcm92aW5jaWFsIEdvdmVybm1lbnQsIERvd250b3duIFRvcm9udG88L2Rpdj5gKVswXTsKICAgICAgICAgICAgcG9wdXBfYTQ5YTlhNTk2NTE4NGUyODg2ZWVkNDBjMWZjNTY2YzIuc2V0Q29udGVudChodG1sXzljNWFiZjc5ZTk5MDQ2YTFhZDk2ZmI1MGZiYTc2YWVhKTsKICAgICAgICAKCiAgICAgICAgY2lyY2xlX21hcmtlcl80YTBmMjRjZGU2NTA0OGQ3YTQ5OTdlYjdiNGM0ODkxYi5iaW5kUG9wdXAocG9wdXBfYTQ5YTlhNTk2NTE4NGUyODg2ZWVkNDBjMWZjNTY2YzIpCiAgICAgICAgOwoKICAgICAgICAKICAgIAogICAgCiAgICAgICAgICAgIHZhciBjaXJjbGVfbWFya2VyXzRkZTVlYzUxZmM1ZTQ0MTViMzJhZTg4MDA1YzgzYjJlID0gTC5jaXJjbGVNYXJrZXIoCiAgICAgICAgICAgICAgICBbNDMuNjU3MiwgLTc5LjM3ODNdLAogICAgICAgICAgICAgICAgeyJidWJibGluZ01vdXNlRXZlbnRzIjogdHJ1ZSwgImNvbG9yIjogImJsdWUiLCAiZGFzaEFycmF5IjogbnVsbCwgImRhc2hPZmZzZXQiOiBudWxsLCAiZmlsbCI6IHRydWUsICJmaWxsQ29sb3IiOiAiIzMxODZjYyIsICJmaWxsT3BhY2l0eSI6IDAuNywgImZpbGxSdWxlIjogImV2ZW5vZGQiLCAibGluZUNhcCI6ICJyb3VuZCIsICJsaW5lSm9pbiI6ICJyb3VuZCIsICJvcGFjaXR5IjogMS4wLCAicmFkaXVzIjogNSwgInN0cm9rZSI6IHRydWUsICJ3ZWlnaHQiOiAzfQogICAgICAgICAgICApLmFkZFRvKG1hcF9kZmNkMGE1ODdhNzY0ZTE0YjU2ZTE5ZDdlZGVjZWMyZCk7CiAgICAgICAgCiAgICAKICAgICAgICB2YXIgcG9wdXBfYzVkZjZiNzlmN2IzNDQwMDhmNTczNDVlMzIzY2QzMzMgPSBMLnBvcHVwKHsibWF4V2lkdGgiOiAiMTAwJSJ9KTsKCiAgICAgICAgCiAgICAgICAgICAgIHZhciBodG1sXzYxY2ExODBhZTJhNjRlNDQ5NjU4YzYyZjVmN2ZhODUxID0gJChgPGRpdiBpZD0iaHRtbF82MWNhMTgwYWUyYTY0ZTQ0OTY1OGM2MmY1ZjdmYTg1MSIgc3R5bGU9IndpZHRoOiAxMDAuMCU7IGhlaWdodDogMTAwLjAlOyI+R2FyZGVuIERpc3RyaWN0LCBSeWVyc29uLCBEb3dudG93biBUb3JvbnRvPC9kaXY+YClbMF07CiAgICAgICAgICAgIHBvcHVwX2M1ZGY2Yjc5ZjdiMzQ0MDA4ZjU3MzQ1ZTMyM2NkMzMzLnNldENvbnRlbnQoaHRtbF82MWNhMTgwYWUyYTY0ZTQ0OTY1OGM2MmY1ZjdmYTg1MSk7CiAgICAgICAgCgogICAgICAgIGNpcmNsZV9tYXJrZXJfNGRlNWVjNTFmYzVlNDQxNWIzMmFlODgwMDVjODNiMmUuYmluZFBvcHVwKHBvcHVwX2M1ZGY2Yjc5ZjdiMzQ0MDA4ZjU3MzQ1ZTMyM2NkMzMzKQogICAgICAgIDsKCiAgICAgICAgCiAgICAKICAgIAogICAgICAgICAgICB2YXIgY2lyY2xlX21hcmtlcl9kMTczMWY1MTA5M2I0YjkzYmFlNDViYTA0Zjk2OTBkOCA9IEwuY2lyY2xlTWFya2VyKAogICAgICAgICAgICAgICAgWzQzLjY1MTMsIC03OS4zNzU2XSwKICAgICAgICAgICAgICAgIHsiYnViYmxpbmdNb3VzZUV2ZW50cyI6IHRydWUsICJjb2xvciI6ICJibHVlIiwgImRhc2hBcnJheSI6IG51bGwsICJkYXNoT2Zmc2V0IjogbnVsbCwgImZpbGwiOiB0cnVlLCAiZmlsbENvbG9yIjogIiMzMTg2Y2MiLCAiZmlsbE9wYWNpdHkiOiAwLjcsICJmaWxsUnVsZSI6ICJldmVub2RkIiwgImxpbmVDYXAiOiAicm91bmQiLCAibGluZUpvaW4iOiAicm91bmQiLCAib3BhY2l0eSI6IDEuMCwgInJhZGl1cyI6IDUsICJzdHJva2UiOiB0cnVlLCAid2VpZ2h0IjogM30KICAgICAgICAgICAgKS5hZGRUbyhtYXBfZGZjZDBhNTg3YTc2NGUxNGI1NmUxOWQ3ZWRlY2VjMmQpOwogICAgICAgIAogICAgCiAgICAgICAgdmFyIHBvcHVwXzJlOTU5MGZkODczYzQ2MzRiODMxN2FmOTgyMzgzNjQ4ID0gTC5wb3B1cCh7Im1heFdpZHRoIjogIjEwMCUifSk7CgogICAgICAgIAogICAgICAgICAgICB2YXIgaHRtbF8zYWFmMzY0MzJiZmU0OTMyYTI5NzU2ZTc2MmM2MjM0NyA9ICQoYDxkaXYgaWQ9Imh0bWxfM2FhZjM2NDMyYmZlNDkzMmEyOTc1NmU3NjJjNjIzNDciIHN0eWxlPSJ3aWR0aDogMTAwLjAlOyBoZWlnaHQ6IDEwMC4wJTsiPlN0LiBKYW1lcyBUb3duLCBEb3dudG93biBUb3JvbnRvPC9kaXY+YClbMF07CiAgICAgICAgICAgIHBvcHVwXzJlOTU5MGZkODczYzQ2MzRiODMxN2FmOTgyMzgzNjQ4LnNldENvbnRlbnQoaHRtbF8zYWFmMzY0MzJiZmU0OTMyYTI5NzU2ZTc2MmM2MjM0Nyk7CiAgICAgICAgCgogICAgICAgIGNpcmNsZV9tYXJrZXJfZDE3MzFmNTEwOTNiNGI5M2JhZTQ1YmEwNGY5NjkwZDguYmluZFBvcHVwKHBvcHVwXzJlOTU5MGZkODczYzQ2MzRiODMxN2FmOTgyMzgzNjQ4KQogICAgICAgIDsKCiAgICAgICAgCiAgICAKICAgIAogICAgICAgICAgICB2YXIgY2lyY2xlX21hcmtlcl81MWQ5NzI5YjEwZTg0ODE3OTNmOGI5YzA2MDIzYWY2YiA9IEwuY2lyY2xlTWFya2VyKAogICAgICAgICAgICAgICAgWzQzLjY0NTYsIC03OS4zNzU0XSwKICAgICAgICAgICAgICAgIHsiYnViYmxpbmdNb3VzZUV2ZW50cyI6IHRydWUsICJjb2xvciI6ICJibHVlIiwgImRhc2hBcnJheSI6IG51bGwsICJkYXNoT2Zmc2V0IjogbnVsbCwgImZpbGwiOiB0cnVlLCAiZmlsbENvbG9yIjogIiMzMTg2Y2MiLCAiZmlsbE9wYWNpdHkiOiAwLjcsICJmaWxsUnVsZSI6ICJldmVub2RkIiwgImxpbmVDYXAiOiAicm91bmQiLCAibGluZUpvaW4iOiAicm91bmQiLCAib3BhY2l0eSI6IDEuMCwgInJhZGl1cyI6IDUsICJzdHJva2UiOiB0cnVlLCAid2VpZ2h0IjogM30KICAgICAgICAgICAgKS5hZGRUbyhtYXBfZGZjZDBhNTg3YTc2NGUxNGI1NmUxOWQ3ZWRlY2VjMmQpOwogICAgICAgIAogICAgCiAgICAgICAgdmFyIHBvcHVwX2VkNTc4YzAwMzBlMDRmZjVhZjhkNzgzMTZiOTJkZGYzID0gTC5wb3B1cCh7Im1heFdpZHRoIjogIjEwMCUifSk7CgogICAgICAgIAogICAgICAgICAgICB2YXIgaHRtbF8wZDU1MmMwMzgxMGQ0ZmZmOTYyNmQ0OWJiYjBjMWU4ZCA9ICQoYDxkaXYgaWQ9Imh0bWxfMGQ1NTJjMDM4MTBkNGZmZjk2MjZkNDliYmIwYzFlOGQiIHN0eWxlPSJ3aWR0aDogMTAwLjAlOyBoZWlnaHQ6IDEwMC4wJTsiPkJlcmN6eSBQYXJrLCBEb3dudG93biBUb3JvbnRvPC9kaXY+YClbMF07CiAgICAgICAgICAgIHBvcHVwX2VkNTc4YzAwMzBlMDRmZjVhZjhkNzgzMTZiOTJkZGYzLnNldENvbnRlbnQoaHRtbF8wZDU1MmMwMzgxMGQ0ZmZmOTYyNmQ0OWJiYjBjMWU4ZCk7CiAgICAgICAgCgogICAgICAgIGNpcmNsZV9tYXJrZXJfNTFkOTcyOWIxMGU4NDgxNzkzZjhiOWMwNjAyM2FmNmIuYmluZFBvcHVwKHBvcHVwX2VkNTc4YzAwMzBlMDRmZjVhZjhkNzgzMTZiOTJkZGYzKQogICAgICAgIDsKCiAgICAgICAgCiAgICAKICAgIAogICAgICAgICAgICB2YXIgY2lyY2xlX21hcmtlcl9hYzFhNGEyOWE0ZDQ0ODRiYWI4YTc5OGM2ZjMyMjc5MyA9IEwuY2lyY2xlTWFya2VyKAogICAgICAgICAgICAgICAgWzQzLjY1NjQsIC03OS4zODYwMDAwMDAwMDAwMl0sCiAgICAgICAgICAgICAgICB7ImJ1YmJsaW5nTW91c2VFdmVudHMiOiB0cnVlLCAiY29sb3IiOiAiYmx1ZSIsICJkYXNoQXJyYXkiOiBudWxsLCAiZGFzaE9mZnNldCI6IG51bGwsICJmaWxsIjogdHJ1ZSwgImZpbGxDb2xvciI6ICIjMzE4NmNjIiwgImZpbGxPcGFjaXR5IjogMC43LCAiZmlsbFJ1bGUiOiAiZXZlbm9kZCIsICJsaW5lQ2FwIjogInJvdW5kIiwgImxpbmVKb2luIjogInJvdW5kIiwgIm9wYWNpdHkiOiAxLjAsICJyYWRpdXMiOiA1LCAic3Ryb2tlIjogdHJ1ZSwgIndlaWdodCI6IDN9CiAgICAgICAgICAgICkuYWRkVG8obWFwX2RmY2QwYTU4N2E3NjRlMTRiNTZlMTlkN2VkZWNlYzJkKTsKICAgICAgICAKICAgIAogICAgICAgIHZhciBwb3B1cF8xZDcxNTM5ZGJlZjY0NmM3YjVlODlmMzQxMmZkZjhmOSA9IEwucG9wdXAoeyJtYXhXaWR0aCI6ICIxMDAlIn0pOwoKICAgICAgICAKICAgICAgICAgICAgdmFyIGh0bWxfMTM1YzljZmY5ZmU4NDhlOWFiYzU5NDViZjM4ZGJiYTYgPSAkKGA8ZGl2IGlkPSJodG1sXzEzNWM5Y2ZmOWZlODQ4ZTlhYmM1OTQ1YmYzOGRiYmE2IiBzdHlsZT0id2lkdGg6IDEwMC4wJTsgaGVpZ2h0OiAxMDAuMCU7Ij5DZW50cmFsIEJheSBTdHJlZXQsIERvd250b3duIFRvcm9udG88L2Rpdj5gKVswXTsKICAgICAgICAgICAgcG9wdXBfMWQ3MTUzOWRiZWY2NDZjN2I1ZTg5ZjM0MTJmZGY4Zjkuc2V0Q29udGVudChodG1sXzEzNWM5Y2ZmOWZlODQ4ZTlhYmM1OTQ1YmYzOGRiYmE2KTsKICAgICAgICAKCiAgICAgICAgY2lyY2xlX21hcmtlcl9hYzFhNGEyOWE0ZDQ0ODRiYWI4YTc5OGM2ZjMyMjc5My5iaW5kUG9wdXAocG9wdXBfMWQ3MTUzOWRiZWY2NDZjN2I1ZTg5ZjM0MTJmZGY4ZjkpCiAgICAgICAgOwoKICAgICAgICAKICAgIAogICAgCiAgICAgICAgICAgIHZhciBjaXJjbGVfbWFya2VyXzc0YzIwMTQ1ZDNkYjQ1YzdhZTVkODUzNGFlMWQ5NWRjID0gTC5jaXJjbGVNYXJrZXIoCiAgICAgICAgICAgICAgICBbNDMuNjY4MywgLTc5LjQyMDVdLAogICAgICAgICAgICAgICAgeyJidWJibGluZ01vdXNlRXZlbnRzIjogdHJ1ZSwgImNvbG9yIjogImJsdWUiLCAiZGFzaEFycmF5IjogbnVsbCwgImRhc2hPZmZzZXQiOiBudWxsLCAiZmlsbCI6IHRydWUsICJmaWxsQ29sb3IiOiAiIzMxODZjYyIsICJmaWxsT3BhY2l0eSI6IDAuNywgImZpbGxSdWxlIjogImV2ZW5vZGQiLCAibGluZUNhcCI6ICJyb3VuZCIsICJsaW5lSm9pbiI6ICJyb3VuZCIsICJvcGFjaXR5IjogMS4wLCAicmFkaXVzIjogNSwgInN0cm9rZSI6IHRydWUsICJ3ZWlnaHQiOiAzfQogICAgICAgICAgICApLmFkZFRvKG1hcF9kZmNkMGE1ODdhNzY0ZTE0YjU2ZTE5ZDdlZGVjZWMyZCk7CiAgICAgICAgCiAgICAKICAgICAgICB2YXIgcG9wdXBfYzYxYTI5ZjRlZDY4NDU3ZThjZWIwMTVjMTI4MmQ1MGIgPSBMLnBvcHVwKHsibWF4V2lkdGgiOiAiMTAwJSJ9KTsKCiAgICAgICAgCiAgICAgICAgICAgIHZhciBodG1sXzFmYjdiNzhjMjczMTRlMGU5M2UzZjAyYjQ5OWVkMWFlID0gJChgPGRpdiBpZD0iaHRtbF8xZmI3Yjc4YzI3MzE0ZTBlOTNlM2YwMmI0OTllZDFhZSIgc3R5bGU9IndpZHRoOiAxMDAuMCU7IGhlaWdodDogMTAwLjAlOyI+Q2hyaXN0aWUsIERvd250b3duIFRvcm9udG88L2Rpdj5gKVswXTsKICAgICAgICAgICAgcG9wdXBfYzYxYTI5ZjRlZDY4NDU3ZThjZWIwMTVjMTI4MmQ1MGIuc2V0Q29udGVudChodG1sXzFmYjdiNzhjMjczMTRlMGU5M2UzZjAyYjQ5OWVkMWFlKTsKICAgICAgICAKCiAgICAgICAgY2lyY2xlX21hcmtlcl83NGMyMDE0NWQzZGI0NWM3YWU1ZDg1MzRhZTFkOTVkYy5iaW5kUG9wdXAocG9wdXBfYzYxYTI5ZjRlZDY4NDU3ZThjZWIwMTVjMTI4MmQ1MGIpCiAgICAgICAgOwoKICAgICAgICAKICAgIAogICAgCiAgICAgICAgICAgIHZhciBjaXJjbGVfbWFya2VyX2ZlOWQwMzc5N2FiMTQyYmQ4YWU3NDdmMjBmOWYxNmFmID0gTC5jaXJjbGVNYXJrZXIoCiAgICAgICAgICAgICAgICBbNDMuNjQ5NiwgLTc5LjM4MzNdLAogICAgICAgICAgICAgICAgeyJidWJibGluZ01vdXNlRXZlbnRzIjogdHJ1ZSwgImNvbG9yIjogImJsdWUiLCAiZGFzaEFycmF5IjogbnVsbCwgImRhc2hPZmZzZXQiOiBudWxsLCAiZmlsbCI6IHRydWUsICJmaWxsQ29sb3IiOiAiIzMxODZjYyIsICJmaWxsT3BhY2l0eSI6IDAuNywgImZpbGxSdWxlIjogImV2ZW5vZGQiLCAibGluZUNhcCI6ICJyb3VuZCIsICJsaW5lSm9pbiI6ICJyb3VuZCIsICJvcGFjaXR5IjogMS4wLCAicmFkaXVzIjogNSwgInN0cm9rZSI6IHRydWUsICJ3ZWlnaHQiOiAzfQogICAgICAgICAgICApLmFkZFRvKG1hcF9kZmNkMGE1ODdhNzY0ZTE0YjU2ZTE5ZDdlZGVjZWMyZCk7CiAgICAgICAgCiAgICAKICAgICAgICB2YXIgcG9wdXBfZWQyY2I3OWI4MDljNGYwOGI3MzU2ZDI1ZjI0NWEwNzggPSBMLnBvcHVwKHsibWF4V2lkdGgiOiAiMTAwJSJ9KTsKCiAgICAgICAgCiAgICAgICAgICAgIHZhciBodG1sX2RkNzQwNjVlYmU4NjRmZDdhNThjMDAwNGM1MGIxM2Y5ID0gJChgPGRpdiBpZD0iaHRtbF9kZDc0MDY1ZWJlODY0ZmQ3YTU4YzAwMDRjNTBiMTNmOSIgc3R5bGU9IndpZHRoOiAxMDAuMCU7IGhlaWdodDogMTAwLjAlOyI+UmljaG1vbmQgLCBBZGVsYWlkZSAsIEtpbmcsIERvd250b3duIFRvcm9udG88L2Rpdj5gKVswXTsKICAgICAgICAgICAgcG9wdXBfZWQyY2I3OWI4MDljNGYwOGI3MzU2ZDI1ZjI0NWEwNzguc2V0Q29udGVudChodG1sX2RkNzQwNjVlYmU4NjRmZDdhNThjMDAwNGM1MGIxM2Y5KTsKICAgICAgICAKCiAgICAgICAgY2lyY2xlX21hcmtlcl9mZTlkMDM3OTdhYjE0MmJkOGFlNzQ3ZjIwZjlmMTZhZi5iaW5kUG9wdXAocG9wdXBfZWQyY2I3OWI4MDljNGYwOGI3MzU2ZDI1ZjI0NWEwNzgpCiAgICAgICAgOwoKICAgICAgICAKICAgIAogICAgCiAgICAgICAgICAgIHZhciBjaXJjbGVfbWFya2VyXzQxNGFhZjUzOTEyMzRiYjE4M2Q4NTc0OGI2M2MyMzMzID0gTC5jaXJjbGVNYXJrZXIoCiAgICAgICAgICAgICAgICBbNDMuNjIzMDAwMDAwMDAwMDEsIC03OS4zOTM2XSwKICAgICAgICAgICAgICAgIHsiYnViYmxpbmdNb3VzZUV2ZW50cyI6IHRydWUsICJjb2xvciI6ICJibHVlIiwgImRhc2hBcnJheSI6IG51bGwsICJkYXNoT2Zmc2V0IjogbnVsbCwgImZpbGwiOiB0cnVlLCAiZmlsbENvbG9yIjogIiMzMTg2Y2MiLCAiZmlsbE9wYWNpdHkiOiAwLjcsICJmaWxsUnVsZSI6ICJldmVub2RkIiwgImxpbmVDYXAiOiAicm91bmQiLCAibGluZUpvaW4iOiAicm91bmQiLCAib3BhY2l0eSI6IDEuMCwgInJhZGl1cyI6IDUsICJzdHJva2UiOiB0cnVlLCAid2VpZ2h0IjogM30KICAgICAgICAgICAgKS5hZGRUbyhtYXBfZGZjZDBhNTg3YTc2NGUxNGI1NmUxOWQ3ZWRlY2VjMmQpOwogICAgICAgIAogICAgCiAgICAgICAgdmFyIHBvcHVwXzFlZTg5NzM1NGU1MTQzMTE5ZmQyNDA0YWI4YTdjMmQ4ID0gTC5wb3B1cCh7Im1heFdpZHRoIjogIjEwMCUifSk7CgogICAgICAgIAogICAgICAgICAgICB2YXIgaHRtbF85N2ZmYzhkNTNlMzI0NjgwYjJkMDBjOGVhNGU4Y2Q1MCA9ICQoYDxkaXYgaWQ9Imh0bWxfOTdmZmM4ZDUzZTMyNDY4MGIyZDAwYzhlYTRlOGNkNTAiIHN0eWxlPSJ3aWR0aDogMTAwLjAlOyBoZWlnaHQ6IDEwMC4wJTsiPkhhcmJvdXJmcm9udCBFYXN0ICwgVW5pb24gU3RhdGlvbiAsIFRvcm9udG8gSXNsYW5kcywgRG93bnRvd24gVG9yb250bzwvZGl2PmApWzBdOwogICAgICAgICAgICBwb3B1cF8xZWU4OTczNTRlNTE0MzExOWZkMjQwNGFiOGE3YzJkOC5zZXRDb250ZW50KGh0bWxfOTdmZmM4ZDUzZTMyNDY4MGIyZDAwYzhlYTRlOGNkNTApOwogICAgICAgIAoKICAgICAgICBjaXJjbGVfbWFya2VyXzQxNGFhZjUzOTEyMzRiYjE4M2Q4NTc0OGI2M2MyMzMzLmJpbmRQb3B1cChwb3B1cF8xZWU4OTczNTRlNTE0MzExOWZkMjQwNGFiOGE3YzJkOCkKICAgICAgICA7CgogICAgICAgIAogICAgCiAgICAKICAgICAgICAgICAgdmFyIGNpcmNsZV9tYXJrZXJfOTY3NzgwY2I5MTYzNGU5NzlmNWUyZjNlNTNiOThlYjAgPSBMLmNpcmNsZU1hcmtlcigKICAgICAgICAgICAgICAgIFs0My42NDY5LCAtNzkuMzgyM10sCiAgICAgICAgICAgICAgICB7ImJ1YmJsaW5nTW91c2VFdmVudHMiOiB0cnVlLCAiY29sb3IiOiAiYmx1ZSIsICJkYXNoQXJyYXkiOiBudWxsLCAiZGFzaE9mZnNldCI6IG51bGwsICJmaWxsIjogdHJ1ZSwgImZpbGxDb2xvciI6ICIjMzE4NmNjIiwgImZpbGxPcGFjaXR5IjogMC43LCAiZmlsbFJ1bGUiOiAiZXZlbm9kZCIsICJsaW5lQ2FwIjogInJvdW5kIiwgImxpbmVKb2luIjogInJvdW5kIiwgIm9wYWNpdHkiOiAxLjAsICJyYWRpdXMiOiA1LCAic3Ryb2tlIjogdHJ1ZSwgIndlaWdodCI6IDN9CiAgICAgICAgICAgICkuYWRkVG8obWFwX2RmY2QwYTU4N2E3NjRlMTRiNTZlMTlkN2VkZWNlYzJkKTsKICAgICAgICAKICAgIAogICAgICAgIHZhciBwb3B1cF82YTIzOGRjMzg5ZWI0NDYyOGE1MmJmZWU3NWU0YjYwOCA9IEwucG9wdXAoeyJtYXhXaWR0aCI6ICIxMDAlIn0pOwoKICAgICAgICAKICAgICAgICAgICAgdmFyIGh0bWxfZTYxNTg4MWQxMzQ0NDhjMGEyNmM3NTY1NjQ2M2U1YjEgPSAkKGA8ZGl2IGlkPSJodG1sX2U2MTU4ODFkMTM0NDQ4YzBhMjZjNzU2NTY0NjNlNWIxIiBzdHlsZT0id2lkdGg6IDEwMC4wJTsgaGVpZ2h0OiAxMDAuMCU7Ij5Ub3JvbnRvIERvbWluaW9uIENlbnRyZSAsIERlc2lnbiBFeGNoYW5nZSwgRG93bnRvd24gVG9yb250bzwvZGl2PmApWzBdOwogICAgICAgICAgICBwb3B1cF82YTIzOGRjMzg5ZWI0NDYyOGE1MmJmZWU3NWU0YjYwOC5zZXRDb250ZW50KGh0bWxfZTYxNTg4MWQxMzQ0NDhjMGEyNmM3NTY1NjQ2M2U1YjEpOwogICAgICAgIAoKICAgICAgICBjaXJjbGVfbWFya2VyXzk2Nzc4MGNiOTE2MzRlOTc5ZjVlMmYzZTUzYjk4ZWIwLmJpbmRQb3B1cChwb3B1cF82YTIzOGRjMzg5ZWI0NDYyOGE1MmJmZWU3NWU0YjYwOCkKICAgICAgICA7CgogICAgICAgIAogICAgCiAgICAKICAgICAgICAgICAgdmFyIGNpcmNsZV9tYXJrZXJfN2Y2N2ViNmFhY2MxNGQ3YmI0ODUxYmM0NTU5OTI5ZTAgPSBMLmNpcmNsZU1hcmtlcigKICAgICAgICAgICAgICAgIFs0My42NDkyLCAtNzkuMzgyM10sCiAgICAgICAgICAgICAgICB7ImJ1YmJsaW5nTW91c2VFdmVudHMiOiB0cnVlLCAiY29sb3IiOiAiYmx1ZSIsICJkYXNoQXJyYXkiOiBudWxsLCAiZGFzaE9mZnNldCI6IG51bGwsICJmaWxsIjogdHJ1ZSwgImZpbGxDb2xvciI6ICIjMzE4NmNjIiwgImZpbGxPcGFjaXR5IjogMC43LCAiZmlsbFJ1bGUiOiAiZXZlbm9kZCIsICJsaW5lQ2FwIjogInJvdW5kIiwgImxpbmVKb2luIjogInJvdW5kIiwgIm9wYWNpdHkiOiAxLjAsICJyYWRpdXMiOiA1LCAic3Ryb2tlIjogdHJ1ZSwgIndlaWdodCI6IDN9CiAgICAgICAgICAgICkuYWRkVG8obWFwX2RmY2QwYTU4N2E3NjRlMTRiNTZlMTlkN2VkZWNlYzJkKTsKICAgICAgICAKICAgIAogICAgICAgIHZhciBwb3B1cF9jYWE5MjI0MjhkMjI0ZDFjOTcyNTJlZTc4MmIxM2Q0MyA9IEwucG9wdXAoeyJtYXhXaWR0aCI6ICIxMDAlIn0pOwoKICAgICAgICAKICAgICAgICAgICAgdmFyIGh0bWxfZTE1NzFlYWFiZDY2NDBhYjk1OTA1MjE0NmI2NTVlZGYgPSAkKGA8ZGl2IGlkPSJodG1sX2UxNTcxZWFhYmQ2NjQwYWI5NTkwNTIxNDZiNjU1ZWRmIiBzdHlsZT0id2lkdGg6IDEwMC4wJTsgaGVpZ2h0OiAxMDAuMCU7Ij5Db21tZXJjZSBDb3VydCAsIFZpY3RvcmlhIEhvdGVsLCBEb3dudG93biBUb3JvbnRvPC9kaXY+YClbMF07CiAgICAgICAgICAgIHBvcHVwX2NhYTkyMjQyOGQyMjRkMWM5NzI1MmVlNzgyYjEzZDQzLnNldENvbnRlbnQoaHRtbF9lMTU3MWVhYWJkNjY0MGFiOTU5MDUyMTQ2YjY1NWVkZik7CiAgICAgICAgCgogICAgICAgIGNpcmNsZV9tYXJrZXJfN2Y2N2ViNmFhY2MxNGQ3YmI0ODUxYmM0NTU5OTI5ZTAuYmluZFBvcHVwKHBvcHVwX2NhYTkyMjQyOGQyMjRkMWM5NzI1MmVlNzgyYjEzZDQzKQogICAgICAgIDsKCiAgICAgICAgCiAgICAKICAgIAogICAgICAgICAgICB2YXIgY2lyY2xlX21hcmtlcl84NGIwY2Q0MjllYzM0MWJiODZmMzRiMWI5YjA4MGVmYyA9IEwuY2lyY2xlTWFya2VyKAogICAgICAgICAgICAgICAgWzQzLjY2MjksIC03OS4zOTg3XSwKICAgICAgICAgICAgICAgIHsiYnViYmxpbmdNb3VzZUV2ZW50cyI6IHRydWUsICJjb2xvciI6ICJibHVlIiwgImRhc2hBcnJheSI6IG51bGwsICJkYXNoT2Zmc2V0IjogbnVsbCwgImZpbGwiOiB0cnVlLCAiZmlsbENvbG9yIjogIiMzMTg2Y2MiLCAiZmlsbE9wYWNpdHkiOiAwLjcsICJmaWxsUnVsZSI6ICJldmVub2RkIiwgImxpbmVDYXAiOiAicm91bmQiLCAibGluZUpvaW4iOiAicm91bmQiLCAib3BhY2l0eSI6IDEuMCwgInJhZGl1cyI6IDUsICJzdHJva2UiOiB0cnVlLCAid2VpZ2h0IjogM30KICAgICAgICAgICAgKS5hZGRUbyhtYXBfZGZjZDBhNTg3YTc2NGUxNGI1NmUxOWQ3ZWRlY2VjMmQpOwogICAgICAgIAogICAgCiAgICAgICAgdmFyIHBvcHVwX2MwZDk1OTg2NDFhMzRhZGZiZjUzOTMzNDBhMzA4N2RmID0gTC5wb3B1cCh7Im1heFdpZHRoIjogIjEwMCUifSk7CgogICAgICAgIAogICAgICAgICAgICB2YXIgaHRtbF80NzZjYmIxMDc4MDk0MzMzYTU5Y2Q0NTg4MTNhMjU1YSA9ICQoYDxkaXYgaWQ9Imh0bWxfNDc2Y2JiMTA3ODA5NDMzM2E1OWNkNDU4ODEzYTI1NWEiIHN0eWxlPSJ3aWR0aDogMTAwLjAlOyBoZWlnaHQ6IDEwMC4wJTsiPlVuaXZlcnNpdHkgb2YgVG9yb250byAsIEhhcmJvcmQsIERvd250b3duIFRvcm9udG88L2Rpdj5gKVswXTsKICAgICAgICAgICAgcG9wdXBfYzBkOTU5ODY0MWEzNGFkZmJmNTM5MzM0MGEzMDg3ZGYuc2V0Q29udGVudChodG1sXzQ3NmNiYjEwNzgwOTQzMzNhNTljZDQ1ODgxM2EyNTVhKTsKICAgICAgICAKCiAgICAgICAgY2lyY2xlX21hcmtlcl84NGIwY2Q0MjllYzM0MWJiODZmMzRiMWI5YjA4MGVmYy5iaW5kUG9wdXAocG9wdXBfYzBkOTU5ODY0MWEzNGFkZmJmNTM5MzM0MGEzMDg3ZGYpCiAgICAgICAgOwoKICAgICAgICAKICAgIAogICAgCiAgICAgICAgICAgIHZhciBjaXJjbGVfbWFya2VyXzgyNzBkMDhkNWI0NDRiZGZhNGM0MzI0NTg5OWFhZWI0ID0gTC5jaXJjbGVNYXJrZXIoCiAgICAgICAgICAgICAgICBbNDMuNjU0MSwgLTc5LjM5NzhdLAogICAgICAgICAgICAgICAgeyJidWJibGluZ01vdXNlRXZlbnRzIjogdHJ1ZSwgImNvbG9yIjogImJsdWUiLCAiZGFzaEFycmF5IjogbnVsbCwgImRhc2hPZmZzZXQiOiBudWxsLCAiZmlsbCI6IHRydWUsICJmaWxsQ29sb3IiOiAiIzMxODZjYyIsICJmaWxsT3BhY2l0eSI6IDAuNywgImZpbGxSdWxlIjogImV2ZW5vZGQiLCAibGluZUNhcCI6ICJyb3VuZCIsICJsaW5lSm9pbiI6ICJyb3VuZCIsICJvcGFjaXR5IjogMS4wLCAicmFkaXVzIjogNSwgInN0cm9rZSI6IHRydWUsICJ3ZWlnaHQiOiAzfQogICAgICAgICAgICApLmFkZFRvKG1hcF9kZmNkMGE1ODdhNzY0ZTE0YjU2ZTE5ZDdlZGVjZWMyZCk7CiAgICAgICAgCiAgICAKICAgICAgICB2YXIgcG9wdXBfMDRiMDVjMTAzN2UzNGQ1YmE1MWY4NTNmNDM0YjM2MTQgPSBMLnBvcHVwKHsibWF4V2lkdGgiOiAiMTAwJSJ9KTsKCiAgICAgICAgCiAgICAgICAgICAgIHZhciBodG1sXzBkYjNjMGYyZTEwZDRlZWZiNmQ1YjAwZTJjYzJkODQ0ID0gJChgPGRpdiBpZD0iaHRtbF8wZGIzYzBmMmUxMGQ0ZWVmYjZkNWIwMGUyY2MyZDg0NCIgc3R5bGU9IndpZHRoOiAxMDAuMCU7IGhlaWdodDogMTAwLjAlOyI+S2Vuc2luZ3RvbiBNYXJrZXQgLCBDaGluYXRvd24gLCBHcmFuZ2UgUGFyaywgRG93bnRvd24gVG9yb250bzwvZGl2PmApWzBdOwogICAgICAgICAgICBwb3B1cF8wNGIwNWMxMDM3ZTM0ZDViYTUxZjg1M2Y0MzRiMzYxNC5zZXRDb250ZW50KGh0bWxfMGRiM2MwZjJlMTBkNGVlZmI2ZDViMDBlMmNjMmQ4NDQpOwogICAgICAgIAoKICAgICAgICBjaXJjbGVfbWFya2VyXzgyNzBkMDhkNWI0NDRiZGZhNGM0MzI0NTg5OWFhZWI0LmJpbmRQb3B1cChwb3B1cF8wNGIwNWMxMDM3ZTM0ZDViYTUxZjg1M2Y0MzRiMzYxNCkKICAgICAgICA7CgogICAgICAgIAogICAgCiAgICAKICAgICAgICAgICAgdmFyIGNpcmNsZV9tYXJrZXJfOTJiZjdhOTFmZjQwNGU0NWI4MDI3MTZiNjg0MjBlY2QgPSBMLmNpcmNsZU1hcmtlcigKICAgICAgICAgICAgICAgIFs0My42NDA0LCAtNzkuMzk5NV0sCiAgICAgICAgICAgICAgICB7ImJ1YmJsaW5nTW91c2VFdmVudHMiOiB0cnVlLCAiY29sb3IiOiAiYmx1ZSIsICJkYXNoQXJyYXkiOiBudWxsLCAiZGFzaE9mZnNldCI6IG51bGwsICJmaWxsIjogdHJ1ZSwgImZpbGxDb2xvciI6ICIjMzE4NmNjIiwgImZpbGxPcGFjaXR5IjogMC43LCAiZmlsbFJ1bGUiOiAiZXZlbm9kZCIsICJsaW5lQ2FwIjogInJvdW5kIiwgImxpbmVKb2luIjogInJvdW5kIiwgIm9wYWNpdHkiOiAxLjAsICJyYWRpdXMiOiA1LCAic3Ryb2tlIjogdHJ1ZSwgIndlaWdodCI6IDN9CiAgICAgICAgICAgICkuYWRkVG8obWFwX2RmY2QwYTU4N2E3NjRlMTRiNTZlMTlkN2VkZWNlYzJkKTsKICAgICAgICAKICAgIAogICAgICAgIHZhciBwb3B1cF82ZGU0MWRlZjI5ZTc0ZjliOWQ1MmE3OGZjM2VhMzg4NiA9IEwucG9wdXAoeyJtYXhXaWR0aCI6ICIxMDAlIn0pOwoKICAgICAgICAKICAgICAgICAgICAgdmFyIGh0bWxfYzcxYmQ1ODNkNTA3NGFlNzkzM2QxYjE0NjBiODhhM2MgPSAkKGA8ZGl2IGlkPSJodG1sX2M3MWJkNTgzZDUwNzRhZTc5MzNkMWIxNDYwYjg4YTNjIiBzdHlsZT0id2lkdGg6IDEwMC4wJTsgaGVpZ2h0OiAxMDAuMCU7Ij5DTiBUb3dlciAsIEtpbmcgYW5kIFNwYWRpbmEgLCBSYWlsd2F5IExhbmRzICwgSGFyYm91cmZyb250IFdlc3QgLCBCYXRodXJzdCAgUXVheSAsIFNvdXRoIE5pYWdhcmEgLCBJc2xhbmQgYWlycG9ydCwgRG93bnRvd24gVG9yb250bzwvZGl2PmApWzBdOwogICAgICAgICAgICBwb3B1cF82ZGU0MWRlZjI5ZTc0ZjliOWQ1MmE3OGZjM2VhMzg4Ni5zZXRDb250ZW50KGh0bWxfYzcxYmQ1ODNkNTA3NGFlNzkzM2QxYjE0NjBiODhhM2MpOwogICAgICAgIAoKICAgICAgICBjaXJjbGVfbWFya2VyXzkyYmY3YTkxZmY0MDRlNDViODAyNzE2YjY4NDIwZWNkLmJpbmRQb3B1cChwb3B1cF82ZGU0MWRlZjI5ZTc0ZjliOWQ1MmE3OGZjM2VhMzg4NikKICAgICAgICA7CgogICAgICAgIAogICAgCiAgICAKICAgICAgICAgICAgdmFyIGNpcmNsZV9tYXJrZXJfM2FiNTc0MmNhYmUyNGUzM2I5OTZmZWMwOWQ1MzJiZTcgPSBMLmNpcmNsZU1hcmtlcigKICAgICAgICAgICAgICAgIFs0My42ODI3LCAtNzkuMzczXSwKICAgICAgICAgICAgICAgIHsiYnViYmxpbmdNb3VzZUV2ZW50cyI6IHRydWUsICJjb2xvciI6ICJibHVlIiwgImRhc2hBcnJheSI6IG51bGwsICJkYXNoT2Zmc2V0IjogbnVsbCwgImZpbGwiOiB0cnVlLCAiZmlsbENvbG9yIjogIiMzMTg2Y2MiLCAiZmlsbE9wYWNpdHkiOiAwLjcsICJmaWxsUnVsZSI6ICJldmVub2RkIiwgImxpbmVDYXAiOiAicm91bmQiLCAibGluZUpvaW4iOiAicm91bmQiLCAib3BhY2l0eSI6IDEuMCwgInJhZGl1cyI6IDUsICJzdHJva2UiOiB0cnVlLCAid2VpZ2h0IjogM30KICAgICAgICAgICAgKS5hZGRUbyhtYXBfZGZjZDBhNTg3YTc2NGUxNGI1NmUxOWQ3ZWRlY2VjMmQpOwogICAgICAgIAogICAgCiAgICAgICAgdmFyIHBvcHVwXzdhM2EwMWE0M2U3OTRkMjg5N2FlMmQxMjliZjU5YzAzID0gTC5wb3B1cCh7Im1heFdpZHRoIjogIjEwMCUifSk7CgogICAgICAgIAogICAgICAgICAgICB2YXIgaHRtbF82ZGM2Y2UxMjBkN2Y0ZTIxOWRkMjUwYjM2YjA5ZTM4YiA9ICQoYDxkaXYgaWQ9Imh0bWxfNmRjNmNlMTIwZDdmNGUyMTlkZDI1MGIzNmIwOWUzOGIiIHN0eWxlPSJ3aWR0aDogMTAwLjAlOyBoZWlnaHQ6IDEwMC4wJTsiPlJvc2VkYWxlLCBEb3dudG93biBUb3JvbnRvPC9kaXY+YClbMF07CiAgICAgICAgICAgIHBvcHVwXzdhM2EwMWE0M2U3OTRkMjg5N2FlMmQxMjliZjU5YzAzLnNldENvbnRlbnQoaHRtbF82ZGM2Y2UxMjBkN2Y0ZTIxOWRkMjUwYjM2YjA5ZTM4Yik7CiAgICAgICAgCgogICAgICAgIGNpcmNsZV9tYXJrZXJfM2FiNTc0MmNhYmUyNGUzM2I5OTZmZWMwOWQ1MzJiZTcuYmluZFBvcHVwKHBvcHVwXzdhM2EwMWE0M2U3OTRkMjg5N2FlMmQxMjliZjU5YzAzKQogICAgICAgIDsKCiAgICAgICAgCiAgICAKICAgIAogICAgICAgICAgICB2YXIgY2lyY2xlX21hcmtlcl9kYmNlYTgxZjU1MDE0NmRiYjVhNDFiYWNiM2M1YWI4MSA9IEwuY2lyY2xlTWFya2VyKAogICAgICAgICAgICAgICAgWzQzLjY0MzcsIC03OS4zNzg3XSwKICAgICAgICAgICAgICAgIHsiYnViYmxpbmdNb3VzZUV2ZW50cyI6IHRydWUsICJjb2xvciI6ICJibHVlIiwgImRhc2hBcnJheSI6IG51bGwsICJkYXNoT2Zmc2V0IjogbnVsbCwgImZpbGwiOiB0cnVlLCAiZmlsbENvbG9yIjogIiMzMTg2Y2MiLCAiZmlsbE9wYWNpdHkiOiAwLjcsICJmaWxsUnVsZSI6ICJldmVub2RkIiwgImxpbmVDYXAiOiAicm91bmQiLCAibGluZUpvaW4iOiAicm91bmQiLCAib3BhY2l0eSI6IDEuMCwgInJhZGl1cyI6IDUsICJzdHJva2UiOiB0cnVlLCAid2VpZ2h0IjogM30KICAgICAgICAgICAgKS5hZGRUbyhtYXBfZGZjZDBhNTg3YTc2NGUxNGI1NmUxOWQ3ZWRlY2VjMmQpOwogICAgICAgIAogICAgCiAgICAgICAgdmFyIHBvcHVwXzRjMzU2NzgwMGZlMTRiOTlhNTRiY2YzZTUzZjhiMTEyID0gTC5wb3B1cCh7Im1heFdpZHRoIjogIjEwMCUifSk7CgogICAgICAgIAogICAgICAgICAgICB2YXIgaHRtbF9lZjA1Mzg1NmYyYjQ0OTdiOWFhYmUyOWZhNjFhMWVlYiA9ICQoYDxkaXYgaWQ9Imh0bWxfZWYwNTM4NTZmMmI0NDk3YjlhYWJlMjlmYTYxYTFlZWIiIHN0eWxlPSJ3aWR0aDogMTAwLjAlOyBoZWlnaHQ6IDEwMC4wJTsiPlN0biBBIFBPIEJveGVzLCBEb3dudG93biBUb3JvbnRvPC9kaXY+YClbMF07CiAgICAgICAgICAgIHBvcHVwXzRjMzU2NzgwMGZlMTRiOTlhNTRiY2YzZTUzZjhiMTEyLnNldENvbnRlbnQoaHRtbF9lZjA1Mzg1NmYyYjQ0OTdiOWFhYmUyOWZhNjFhMWVlYik7CiAgICAgICAgCgogICAgICAgIGNpcmNsZV9tYXJrZXJfZGJjZWE4MWY1NTAxNDZkYmI1YTQxYmFjYjNjNWFiODEuYmluZFBvcHVwKHBvcHVwXzRjMzU2NzgwMGZlMTRiOTlhNTRiY2YzZTUzZjhiMTEyKQogICAgICAgIDsKCiAgICAgICAgCiAgICAKICAgIAogICAgICAgICAgICB2YXIgY2lyY2xlX21hcmtlcl82NzBjM2YzOGJmNDA0N2QyYTJmMmQ0NzYyYmViMDUyYyA9IEwuY2lyY2xlTWFya2VyKAogICAgICAgICAgICAgICAgWzQzLjY2ODQsIC03OS4zNjg5XSwKICAgICAgICAgICAgICAgIHsiYnViYmxpbmdNb3VzZUV2ZW50cyI6IHRydWUsICJjb2xvciI6ICJibHVlIiwgImRhc2hBcnJheSI6IG51bGwsICJkYXNoT2Zmc2V0IjogbnVsbCwgImZpbGwiOiB0cnVlLCAiZmlsbENvbG9yIjogIiMzMTg2Y2MiLCAiZmlsbE9wYWNpdHkiOiAwLjcsICJmaWxsUnVsZSI6ICJldmVub2RkIiwgImxpbmVDYXAiOiAicm91bmQiLCAibGluZUpvaW4iOiAicm91bmQiLCAib3BhY2l0eSI6IDEuMCwgInJhZGl1cyI6IDUsICJzdHJva2UiOiB0cnVlLCAid2VpZ2h0IjogM30KICAgICAgICAgICAgKS5hZGRUbyhtYXBfZGZjZDBhNTg3YTc2NGUxNGI1NmUxOWQ3ZWRlY2VjMmQpOwogICAgICAgIAogICAgCiAgICAgICAgdmFyIHBvcHVwXzM2MmEwZjMyZmNhMTQ0N2JiMTViOWE0MzY0OTA1YjFkID0gTC5wb3B1cCh7Im1heFdpZHRoIjogIjEwMCUifSk7CgogICAgICAgIAogICAgICAgICAgICB2YXIgaHRtbF81YWI4NzM0Y2YzMmI0OWNmOGE5ZTQ5YTdiYWQ0OGFkNyA9ICQoYDxkaXYgaWQ9Imh0bWxfNWFiODczNGNmMzJiNDljZjhhOWU0OWE3YmFkNDhhZDciIHN0eWxlPSJ3aWR0aDogMTAwLjAlOyBoZWlnaHQ6IDEwMC4wJTsiPlN0LiBKYW1lcyBUb3duICwgQ2FiYmFnZXRvd24sIERvd250b3duIFRvcm9udG88L2Rpdj5gKVswXTsKICAgICAgICAgICAgcG9wdXBfMzYyYTBmMzJmY2ExNDQ3YmIxNWI5YTQzNjQ5MDViMWQuc2V0Q29udGVudChodG1sXzVhYjg3MzRjZjMyYjQ5Y2Y4YTllNDlhN2JhZDQ4YWQ3KTsKICAgICAgICAKCiAgICAgICAgY2lyY2xlX21hcmtlcl82NzBjM2YzOGJmNDA0N2QyYTJmMmQ0NzYyYmViMDUyYy5iaW5kUG9wdXAocG9wdXBfMzYyYTBmMzJmY2ExNDQ3YmIxNWI5YTQzNjQ5MDViMWQpCiAgICAgICAgOwoKICAgICAgICAKICAgIAogICAgCiAgICAgICAgICAgIHZhciBjaXJjbGVfbWFya2VyX2JlYThmYmMzNmZlYzRmZDViYzA4M2YxZGI2MjNjZjY1ID0gTC5jaXJjbGVNYXJrZXIoCiAgICAgICAgICAgICAgICBbNDMuNjQ5MiwgLTc5LjM4MjNdLAogICAgICAgICAgICAgICAgeyJidWJibGluZ01vdXNlRXZlbnRzIjogdHJ1ZSwgImNvbG9yIjogImJsdWUiLCAiZGFzaEFycmF5IjogbnVsbCwgImRhc2hPZmZzZXQiOiBudWxsLCAiZmlsbCI6IHRydWUsICJmaWxsQ29sb3IiOiAiIzMxODZjYyIsICJmaWxsT3BhY2l0eSI6IDAuNywgImZpbGxSdWxlIjogImV2ZW5vZGQiLCAibGluZUNhcCI6ICJyb3VuZCIsICJsaW5lSm9pbiI6ICJyb3VuZCIsICJvcGFjaXR5IjogMS4wLCAicmFkaXVzIjogNSwgInN0cm9rZSI6IHRydWUsICJ3ZWlnaHQiOiAzfQogICAgICAgICAgICApLmFkZFRvKG1hcF9kZmNkMGE1ODdhNzY0ZTE0YjU2ZTE5ZDdlZGVjZWMyZCk7CiAgICAgICAgCiAgICAKICAgICAgICB2YXIgcG9wdXBfYzczODdhM2QyMGYxNGUwNmI5NmIxMTIxYzY2NTA1NzkgPSBMLnBvcHVwKHsibWF4V2lkdGgiOiAiMTAwJSJ9KTsKCiAgICAgICAgCiAgICAgICAgICAgIHZhciBodG1sX2ZkNjk5YWQ0MDc2MjQ1Yzk4MTgwNDYwNjg0YzlkNjIyID0gJChgPGRpdiBpZD0iaHRtbF9mZDY5OWFkNDA3NjI0NWM5ODE4MDQ2MDY4NGM5ZDYyMiIgc3R5bGU9IndpZHRoOiAxMDAuMCU7IGhlaWdodDogMTAwLjAlOyI+Rmlyc3QgQ2FuYWRpYW4gUGxhY2UgLCBVbmRlcmdyb3VuZCBjaXR5LCBEb3dudG93biBUb3JvbnRvPC9kaXY+YClbMF07CiAgICAgICAgICAgIHBvcHVwX2M3Mzg3YTNkMjBmMTRlMDZiOTZiMTEyMWM2NjUwNTc5LnNldENvbnRlbnQoaHRtbF9mZDY5OWFkNDA3NjI0NWM5ODE4MDQ2MDY4NGM5ZDYyMik7CiAgICAgICAgCgogICAgICAgIGNpcmNsZV9tYXJrZXJfYmVhOGZiYzM2ZmVjNGZkNWJjMDgzZjFkYjYyM2NmNjUuYmluZFBvcHVwKHBvcHVwX2M3Mzg3YTNkMjBmMTRlMDZiOTZiMTEyMWM2NjUwNTc5KQogICAgICAgIDsKCiAgICAgICAgCiAgICAKICAgIAogICAgICAgICAgICB2YXIgY2lyY2xlX21hcmtlcl9lZGZjNjYwM2ZhODQ0MWM3YTc4NDg5MDdiMTExZWM5OSA9IEwuY2lyY2xlTWFya2VyKAogICAgICAgICAgICAgICAgWzQzLjY2NTYsIC03OS4zODNdLAogICAgICAgICAgICAgICAgeyJidWJibGluZ01vdXNlRXZlbnRzIjogdHJ1ZSwgImNvbG9yIjogImJsdWUiLCAiZGFzaEFycmF5IjogbnVsbCwgImRhc2hPZmZzZXQiOiBudWxsLCAiZmlsbCI6IHRydWUsICJmaWxsQ29sb3IiOiAiIzMxODZjYyIsICJmaWxsT3BhY2l0eSI6IDAuNywgImZpbGxSdWxlIjogImV2ZW5vZGQiLCAibGluZUNhcCI6ICJyb3VuZCIsICJsaW5lSm9pbiI6ICJyb3VuZCIsICJvcGFjaXR5IjogMS4wLCAicmFkaXVzIjogNSwgInN0cm9rZSI6IHRydWUsICJ3ZWlnaHQiOiAzfQogICAgICAgICAgICApLmFkZFRvKG1hcF9kZmNkMGE1ODdhNzY0ZTE0YjU2ZTE5ZDdlZGVjZWMyZCk7CiAgICAgICAgCiAgICAKICAgICAgICB2YXIgcG9wdXBfODlhZjhjYzllMWJkNGUzNzkwZTk0NzZiNzIzYWY1NGYgPSBMLnBvcHVwKHsibWF4V2lkdGgiOiAiMTAwJSJ9KTsKCiAgICAgICAgCiAgICAgICAgICAgIHZhciBodG1sXzc3ODRjZGEyZjBjNTQ1ODM4NDZiMmFmNjU3ZmFmNWU4ID0gJChgPGRpdiBpZD0iaHRtbF83Nzg0Y2RhMmYwYzU0NTgzODQ2YjJhZjY1N2ZhZjVlOCIgc3R5bGU9IndpZHRoOiAxMDAuMCU7IGhlaWdodDogMTAwLjAlOyI+Q2h1cmNoIGFuZCBXZWxsZXNsZXksIERvd250b3duIFRvcm9udG88L2Rpdj5gKVswXTsKICAgICAgICAgICAgcG9wdXBfODlhZjhjYzllMWJkNGUzNzkwZTk0NzZiNzIzYWY1NGYuc2V0Q29udGVudChodG1sXzc3ODRjZGEyZjBjNTQ1ODM4NDZiMmFmNjU3ZmFmNWU4KTsKICAgICAgICAKCiAgICAgICAgY2lyY2xlX21hcmtlcl9lZGZjNjYwM2ZhODQ0MWM3YTc4NDg5MDdiMTExZWM5OS5iaW5kUG9wdXAocG9wdXBfODlhZjhjYzllMWJkNGUzNzkwZTk0NzZiNzIzYWY1NGYpCiAgICAgICAgOwoKICAgICAgICAKICAgIAo8L3NjcmlwdD4= onload=\"this.contentDocument.open();this.contentDocument.write(atob(this.getAttribute('data-html')));this.contentDocument.close();\" allowfullscreen webkitallowfullscreen mozallowfullscreen></iframe></div></div>"
      ],
      "text/plain": [
       "<folium.folium.Map at 0x1993ae8e188>"
      ]
     },
     "execution_count": 9,
     "metadata": {},
     "output_type": "execute_result"
    }
   ],
   "source": [
    "# create map of Toronto using latitude and longitude values for all Boroughs\n",
    "map_toronto = folium.Map(location=[latitude, longitude], zoom_start=12)\n",
    "\n",
    "# add markers to map\n",
    "for lat, lng, borough, neighborhood in zip(Toronto_data['Latitude'], Toronto_data['Longitude'], Toronto_data['Borough'], Toronto_data['Neighborhood']):\n",
    "    label = '{}, {}'.format(neighborhood, borough)\n",
    "    label = folium.Popup(label, parse_html=True)\n",
    "    folium.CircleMarker(\n",
    "        [lat, lng],\n",
    "        radius=5,\n",
    "        popup=label,\n",
    "        color='blue',\n",
    "        fill=True,\n",
    "        fill_color='#3186cc',\n",
    "        fill_opacity=0.7,\n",
    "        parse_html=False).add_to(map_toronto)  \n",
    "    \n",
    "map_toronto"
   ]
  },
  {
   "cell_type": "markdown",
   "metadata": {},
   "source": [
    "#### Generate venues close to each neighbourhood"
   ]
  },
  {
   "cell_type": "code",
   "execution_count": 10,
   "metadata": {},
   "outputs": [
    {
     "name": "stdout",
     "output_type": "stream",
     "text": [
      "Your credentails:\n",
      "CLIENT_ID: KOTZO3E1FWHNNUKRW4P5ZCOH1OX5CPBSNCJYXXZHGQUMADVH\n",
      "CLIENT_SECRET:SZ3YJDTSSM2WDBR5C1YSO2BPYRC4H2IJTGH0DQ0FRLK3UDHZ\n"
     ]
    }
   ],
   "source": [
    "# Define Foursquare Credentials and Version\n",
    "\n",
    "CLIENT_ID = 'KOTZO3E1FWHNNUKRW4P5ZCOH1OX5CPBSNCJYXXZHGQUMADVH' # Foursquare ID\n",
    "CLIENT_SECRET = 'SZ3YJDTSSM2WDBR5C1YSO2BPYRC4H2IJTGH0DQ0FRLK3UDHZ' # Foursquare Secret\n",
    "VERSION = '20200404' # Foursquare API version\n",
    "\n",
    "print('Your credentails:')\n",
    "print('CLIENT_ID: ' + CLIENT_ID)\n",
    "print('CLIENT_SECRET:' + CLIENT_SECRET)"
   ]
  },
  {
   "cell_type": "code",
   "execution_count": 11,
   "metadata": {},
   "outputs": [],
   "source": [
    "def getNearbyVenues(names, latitudes, longitudes, radius=1000,limit=100,categoryId='4bf58dd8d48988d1c8941735'):\n",
    "    \"\"\"This function generates a maximum of 100 venues within 1000 radius of each neighbour.\n",
    "    It uses the Foursquare API.\n",
    "    \"\"\"\n",
    "    venues_list=[]\n",
    "    for name, lat, lng in zip(names, latitudes, longitudes):\n",
    "        print(name)\n",
    "            \n",
    "        # create the API request URL\n",
    "        url = 'https://api.foursquare.com/v2/venues/explore?&client_id={}&client_secret={}&v={}&ll={},{}&radius={}&limit={}&categoryId={}'.format(\n",
    "            CLIENT_ID, \n",
    "            CLIENT_SECRET, \n",
    "            VERSION, \n",
    "            lat, \n",
    "            lng, \n",
    "            radius, \n",
    "            limit,\n",
    "            categoryId)\n",
    "            \n",
    "        # make the GET request\n",
    "        results = requests.get(url).json()[\"response\"]['groups'][0]['items']\n",
    "        \n",
    "        # return only relevant information for each nearby venue\n",
    "        venues_list.append([(\n",
    "            name, \n",
    "            lat, \n",
    "            lng, \n",
    "            v['venue']['name'], \n",
    "            v['venue']['location']['lat'], \n",
    "            v['venue']['location']['lng'],  \n",
    "            v['venue']['categories'][0]['name']) for v in results])\n",
    "\n",
    "    nearby_venues = pd.DataFrame([item for venue_list in venues_list for item in venue_list])\n",
    "    nearby_venues.columns = ['Neighborhood', \n",
    "                  'Neighborhood Latitude', \n",
    "                  'Neighborhood Longitude', \n",
    "                  'Venue', \n",
    "                  'Venue Latitude', \n",
    "                  'Venue Longitude', \n",
    "                  'Venue Category']\n",
    "    \n",
    "    return(nearby_venues)"
   ]
  },
  {
   "cell_type": "code",
   "execution_count": 12,
   "metadata": {},
   "outputs": [
    {
     "name": "stdout",
     "output_type": "stream",
     "text": [
      "Regent Park , Harbourfront\n",
      "Queen's Park , Ontario Provincial Government\n",
      "Garden District, Ryerson\n",
      "St. James Town\n",
      "Berczy Park\n",
      "Central Bay Street\n",
      "Christie\n",
      "Richmond , Adelaide , King\n",
      "Harbourfront East , Union Station , Toronto Islands\n",
      "Toronto Dominion Centre , Design Exchange\n",
      "Commerce Court , Victoria Hotel\n",
      "University of Toronto , Harbord\n",
      "Kensington Market , Chinatown , Grange Park\n",
      "CN Tower , King and Spadina , Railway Lands , Harbourfront West , Bathurst\n",
      " Quay , South Niagara , Island airport\n",
      "Rosedale\n",
      "Stn A PO Boxes\n",
      "St. James Town , Cabbagetown\n",
      "First Canadian Place , Underground city\n",
      "Church and Wellesley\n"
     ]
    }
   ],
   "source": [
    "Toronto_venues = getNearbyVenues(names=Toronto_data['Neighborhood'],\n",
    "                                   latitudes=Toronto_data['Latitude'],\n",
    "                                   longitudes=Toronto_data['Longitude']\n",
    "                                  )"
   ]
  },
  {
   "cell_type": "code",
   "execution_count": 13,
   "metadata": {},
   "outputs": [
    {
     "name": "stdout",
     "output_type": "stream",
     "text": [
      "(31, 7)\n"
     ]
    },
    {
     "data": {
      "text/html": [
       "<div>\n",
       "<style scoped>\n",
       "    .dataframe tbody tr th:only-of-type {\n",
       "        vertical-align: middle;\n",
       "    }\n",
       "\n",
       "    .dataframe tbody tr th {\n",
       "        vertical-align: top;\n",
       "    }\n",
       "\n",
       "    .dataframe thead th {\n",
       "        text-align: right;\n",
       "    }\n",
       "</style>\n",
       "<table border=\"1\" class=\"dataframe\">\n",
       "  <thead>\n",
       "    <tr style=\"text-align: right;\">\n",
       "      <th></th>\n",
       "      <th>Neighborhood</th>\n",
       "      <th>Neighborhood Latitude</th>\n",
       "      <th>Neighborhood Longitude</th>\n",
       "      <th>Venue</th>\n",
       "      <th>Venue Latitude</th>\n",
       "      <th>Venue Longitude</th>\n",
       "      <th>Venue Category</th>\n",
       "    </tr>\n",
       "  </thead>\n",
       "  <tbody>\n",
       "    <tr>\n",
       "      <td>0</td>\n",
       "      <td>Regent Park , Harbourfront</td>\n",
       "      <td>43.6555</td>\n",
       "      <td>-79.3626</td>\n",
       "      <td>Ethiopian Keeffaa Forest Coffee</td>\n",
       "      <td>43.655958</td>\n",
       "      <td>-79.363977</td>\n",
       "      <td>Ethiopian Restaurant</td>\n",
       "    </tr>\n",
       "    <tr>\n",
       "      <td>1</td>\n",
       "      <td>Regent Park , Harbourfront</td>\n",
       "      <td>43.6555</td>\n",
       "      <td>-79.3626</td>\n",
       "      <td>King Solomon Queen Of Sheba</td>\n",
       "      <td>43.655731</td>\n",
       "      <td>-79.363986</td>\n",
       "      <td>Ethiopian Restaurant</td>\n",
       "    </tr>\n",
       "    <tr>\n",
       "      <td>2</td>\n",
       "      <td>Regent Park , Harbourfront</td>\n",
       "      <td>43.6555</td>\n",
       "      <td>-79.3626</td>\n",
       "      <td>Enat Buna</td>\n",
       "      <td>43.653920</td>\n",
       "      <td>-79.371570</td>\n",
       "      <td>Ethiopian Restaurant</td>\n",
       "    </tr>\n",
       "    <tr>\n",
       "      <td>3</td>\n",
       "      <td>Queen's Park , Ontario Provincial Government</td>\n",
       "      <td>43.6641</td>\n",
       "      <td>-79.3889</td>\n",
       "      <td>Ethiopian House</td>\n",
       "      <td>43.666599</td>\n",
       "      <td>-79.385669</td>\n",
       "      <td>Ethiopian Restaurant</td>\n",
       "    </tr>\n",
       "    <tr>\n",
       "      <td>4</td>\n",
       "      <td>Garden District, Ryerson</td>\n",
       "      <td>43.6572</td>\n",
       "      <td>-79.3783</td>\n",
       "      <td>Ethiopiques</td>\n",
       "      <td>43.656513</td>\n",
       "      <td>-79.377078</td>\n",
       "      <td>Ethiopian Restaurant</td>\n",
       "    </tr>\n",
       "  </tbody>\n",
       "</table>\n",
       "</div>"
      ],
      "text/plain": [
       "                                   Neighborhood  Neighborhood Latitude  \\\n",
       "0                    Regent Park , Harbourfront                43.6555   \n",
       "1                    Regent Park , Harbourfront                43.6555   \n",
       "2                    Regent Park , Harbourfront                43.6555   \n",
       "3  Queen's Park , Ontario Provincial Government                43.6641   \n",
       "4                      Garden District, Ryerson                43.6572   \n",
       "\n",
       "   Neighborhood Longitude                            Venue  Venue Latitude  \\\n",
       "0                -79.3626  Ethiopian Keeffaa Forest Coffee       43.655958   \n",
       "1                -79.3626      King Solomon Queen Of Sheba       43.655731   \n",
       "2                -79.3626                        Enat Buna       43.653920   \n",
       "3                -79.3889                  Ethiopian House       43.666599   \n",
       "4                -79.3783                      Ethiopiques       43.656513   \n",
       "\n",
       "   Venue Longitude        Venue Category  \n",
       "0       -79.363977  Ethiopian Restaurant  \n",
       "1       -79.363986  Ethiopian Restaurant  \n",
       "2       -79.371570  Ethiopian Restaurant  \n",
       "3       -79.385669  Ethiopian Restaurant  \n",
       "4       -79.377078  Ethiopian Restaurant  "
      ]
     },
     "execution_count": 13,
     "metadata": {},
     "output_type": "execute_result"
    }
   ],
   "source": [
    "print(Toronto_venues.shape)\n",
    "Toronto_venues.head()"
   ]
  },
  {
   "cell_type": "markdown",
   "metadata": {},
   "source": [
    "#### Analyze Each Neighborhood"
   ]
  },
  {
   "cell_type": "code",
   "execution_count": 14,
   "metadata": {},
   "outputs": [
    {
     "name": "stdout",
     "output_type": "stream",
     "text": [
      "(31, 5)\n"
     ]
    },
    {
     "data": {
      "text/html": [
       "<div>\n",
       "<style scoped>\n",
       "    .dataframe tbody tr th:only-of-type {\n",
       "        vertical-align: middle;\n",
       "    }\n",
       "\n",
       "    .dataframe tbody tr th {\n",
       "        vertical-align: top;\n",
       "    }\n",
       "\n",
       "    .dataframe thead th {\n",
       "        text-align: right;\n",
       "    }\n",
       "</style>\n",
       "<table border=\"1\" class=\"dataframe\">\n",
       "  <thead>\n",
       "    <tr style=\"text-align: right;\">\n",
       "      <th></th>\n",
       "      <th>Neighborhood</th>\n",
       "      <th>African Restaurant</th>\n",
       "      <th>Ethiopian Restaurant</th>\n",
       "      <th>Portuguese Restaurant</th>\n",
       "      <th>Restaurant</th>\n",
       "    </tr>\n",
       "  </thead>\n",
       "  <tbody>\n",
       "    <tr>\n",
       "      <td>0</td>\n",
       "      <td>Regent Park , Harbourfront</td>\n",
       "      <td>0</td>\n",
       "      <td>1</td>\n",
       "      <td>0</td>\n",
       "      <td>0</td>\n",
       "    </tr>\n",
       "    <tr>\n",
       "      <td>1</td>\n",
       "      <td>Regent Park , Harbourfront</td>\n",
       "      <td>0</td>\n",
       "      <td>1</td>\n",
       "      <td>0</td>\n",
       "      <td>0</td>\n",
       "    </tr>\n",
       "    <tr>\n",
       "      <td>2</td>\n",
       "      <td>Regent Park , Harbourfront</td>\n",
       "      <td>0</td>\n",
       "      <td>1</td>\n",
       "      <td>0</td>\n",
       "      <td>0</td>\n",
       "    </tr>\n",
       "    <tr>\n",
       "      <td>3</td>\n",
       "      <td>Queen's Park , Ontario Provincial Government</td>\n",
       "      <td>0</td>\n",
       "      <td>1</td>\n",
       "      <td>0</td>\n",
       "      <td>0</td>\n",
       "    </tr>\n",
       "    <tr>\n",
       "      <td>4</td>\n",
       "      <td>Garden District, Ryerson</td>\n",
       "      <td>0</td>\n",
       "      <td>1</td>\n",
       "      <td>0</td>\n",
       "      <td>0</td>\n",
       "    </tr>\n",
       "  </tbody>\n",
       "</table>\n",
       "</div>"
      ],
      "text/plain": [
       "                                   Neighborhood  African Restaurant  \\\n",
       "0                    Regent Park , Harbourfront                   0   \n",
       "1                    Regent Park , Harbourfront                   0   \n",
       "2                    Regent Park , Harbourfront                   0   \n",
       "3  Queen's Park , Ontario Provincial Government                   0   \n",
       "4                      Garden District, Ryerson                   0   \n",
       "\n",
       "   Ethiopian Restaurant  Portuguese Restaurant  Restaurant  \n",
       "0                     1                      0           0  \n",
       "1                     1                      0           0  \n",
       "2                     1                      0           0  \n",
       "3                     1                      0           0  \n",
       "4                     1                      0           0  "
      ]
     },
     "execution_count": 14,
     "metadata": {},
     "output_type": "execute_result"
    }
   ],
   "source": [
    "# one hot encoding\n",
    "Toronto_onehot = pd.get_dummies(Toronto_venues[['Venue Category']], prefix=\"\", prefix_sep=\"\")\n",
    "\n",
    "# add neighborhood column back to dataframe\n",
    "Toronto_onehot['Neighborhood'] = Toronto_venues['Neighborhood'] \n",
    "\n",
    "# move neighborhood column to the first column\n",
    "fixed_columns = [Toronto_onehot.columns[-1]] + list(Toronto_onehot.columns[:-1])\n",
    "Toronto_onehot = Toronto_onehot[fixed_columns]\n",
    "print(Toronto_onehot.shape)\n",
    "Toronto_onehot.head()"
   ]
  },
  {
   "cell_type": "code",
   "execution_count": 15,
   "metadata": {},
   "outputs": [
    {
     "name": "stdout",
     "output_type": "stream",
     "text": [
      "(16, 5)\n"
     ]
    },
    {
     "data": {
      "text/html": [
       "<div>\n",
       "<style scoped>\n",
       "    .dataframe tbody tr th:only-of-type {\n",
       "        vertical-align: middle;\n",
       "    }\n",
       "\n",
       "    .dataframe tbody tr th {\n",
       "        vertical-align: top;\n",
       "    }\n",
       "\n",
       "    .dataframe thead th {\n",
       "        text-align: right;\n",
       "    }\n",
       "</style>\n",
       "<table border=\"1\" class=\"dataframe\">\n",
       "  <thead>\n",
       "    <tr style=\"text-align: right;\">\n",
       "      <th></th>\n",
       "      <th>Neighborhood</th>\n",
       "      <th>African Restaurant</th>\n",
       "      <th>Ethiopian Restaurant</th>\n",
       "      <th>Portuguese Restaurant</th>\n",
       "      <th>Restaurant</th>\n",
       "    </tr>\n",
       "  </thead>\n",
       "  <tbody>\n",
       "    <tr>\n",
       "      <td>0</td>\n",
       "      <td>Berczy Park</td>\n",
       "      <td>0.000000</td>\n",
       "      <td>1.000000</td>\n",
       "      <td>0.0</td>\n",
       "      <td>0.0</td>\n",
       "    </tr>\n",
       "    <tr>\n",
       "      <td>1</td>\n",
       "      <td>CN Tower , King and Spadina , Railway Lands , ...</td>\n",
       "      <td>0.000000</td>\n",
       "      <td>0.000000</td>\n",
       "      <td>1.0</td>\n",
       "      <td>0.0</td>\n",
       "    </tr>\n",
       "    <tr>\n",
       "      <td>2</td>\n",
       "      <td>Central Bay Street</td>\n",
       "      <td>0.500000</td>\n",
       "      <td>0.500000</td>\n",
       "      <td>0.0</td>\n",
       "      <td>0.0</td>\n",
       "    </tr>\n",
       "    <tr>\n",
       "      <td>3</td>\n",
       "      <td>Christie</td>\n",
       "      <td>0.333333</td>\n",
       "      <td>0.666667</td>\n",
       "      <td>0.0</td>\n",
       "      <td>0.0</td>\n",
       "    </tr>\n",
       "    <tr>\n",
       "      <td>4</td>\n",
       "      <td>Church and Wellesley</td>\n",
       "      <td>0.000000</td>\n",
       "      <td>1.000000</td>\n",
       "      <td>0.0</td>\n",
       "      <td>0.0</td>\n",
       "    </tr>\n",
       "  </tbody>\n",
       "</table>\n",
       "</div>"
      ],
      "text/plain": [
       "                                        Neighborhood  African Restaurant  \\\n",
       "0                                        Berczy Park            0.000000   \n",
       "1  CN Tower , King and Spadina , Railway Lands , ...            0.000000   \n",
       "2                                 Central Bay Street            0.500000   \n",
       "3                                           Christie            0.333333   \n",
       "4                               Church and Wellesley            0.000000   \n",
       "\n",
       "   Ethiopian Restaurant  Portuguese Restaurant  Restaurant  \n",
       "0              1.000000                    0.0         0.0  \n",
       "1              0.000000                    1.0         0.0  \n",
       "2              0.500000                    0.0         0.0  \n",
       "3              0.666667                    0.0         0.0  \n",
       "4              1.000000                    0.0         0.0  "
      ]
     },
     "execution_count": 15,
     "metadata": {},
     "output_type": "execute_result"
    }
   ],
   "source": [
    "# Group rows by neighborhood and take the mean frequency of occurrence of each category\n",
    "Toronto_grouped = Toronto_onehot.groupby('Neighborhood').mean().reset_index()\n",
    "print(Toronto_grouped.shape)\n",
    "Toronto_grouped.head()"
   ]
  },
  {
   "cell_type": "code",
   "execution_count": 16,
   "metadata": {},
   "outputs": [
    {
     "data": {
      "text/plain": [
       "Index(['Neighborhood', 'African Restaurant', 'Ethiopian Restaurant',\n",
       "       'Portuguese Restaurant', 'Restaurant'],\n",
       "      dtype='object')"
      ]
     },
     "execution_count": 16,
     "metadata": {},
     "output_type": "execute_result"
    }
   ],
   "source": [
    "Toronto_grouped.columns"
   ]
  },
  {
   "cell_type": "code",
   "execution_count": 17,
   "metadata": {},
   "outputs": [
    {
     "name": "stdout",
     "output_type": "stream",
     "text": [
      "----Berczy Park----\n",
      "                   venue  freq\n",
      "0   Ethiopian Restaurant   1.0\n",
      "1     African Restaurant   0.0\n",
      "2  Portuguese Restaurant   0.0\n",
      "\n",
      "\n",
      "----CN Tower , King and Spadina , Railway Lands , Harbourfront West , Bathurst\n",
      " Quay , South Niagara , Island airport----\n",
      "                   venue  freq\n",
      "0  Portuguese Restaurant   1.0\n",
      "1     African Restaurant   0.0\n",
      "2   Ethiopian Restaurant   0.0\n",
      "\n",
      "\n",
      "----Central Bay Street----\n",
      "                   venue  freq\n",
      "0     African Restaurant   0.5\n",
      "1   Ethiopian Restaurant   0.5\n",
      "2  Portuguese Restaurant   0.0\n",
      "\n",
      "\n",
      "----Christie----\n",
      "                   venue  freq\n",
      "0   Ethiopian Restaurant  0.67\n",
      "1     African Restaurant  0.33\n",
      "2  Portuguese Restaurant  0.00\n",
      "\n",
      "\n",
      "----Church and Wellesley----\n",
      "                   venue  freq\n",
      "0   Ethiopian Restaurant   1.0\n",
      "1     African Restaurant   0.0\n",
      "2  Portuguese Restaurant   0.0\n",
      "\n",
      "\n",
      "----Commerce Court , Victoria Hotel----\n",
      "                   venue  freq\n",
      "0     African Restaurant   0.5\n",
      "1   Ethiopian Restaurant   0.5\n",
      "2  Portuguese Restaurant   0.0\n",
      "\n",
      "\n",
      "----First Canadian Place , Underground city----\n",
      "                   venue  freq\n",
      "0     African Restaurant   0.5\n",
      "1   Ethiopian Restaurant   0.5\n",
      "2  Portuguese Restaurant   0.0\n",
      "\n",
      "\n",
      "----Garden District, Ryerson----\n",
      "                   venue  freq\n",
      "0   Ethiopian Restaurant   1.0\n",
      "1     African Restaurant   0.0\n",
      "2  Portuguese Restaurant   0.0\n",
      "\n",
      "\n",
      "----Kensington Market , Chinatown , Grange Park----\n",
      "                   venue  freq\n",
      "0     African Restaurant  0.75\n",
      "1   Ethiopian Restaurant  0.25\n",
      "2  Portuguese Restaurant  0.00\n",
      "\n",
      "\n",
      "----Queen's Park , Ontario Provincial Government----\n",
      "                   venue  freq\n",
      "0   Ethiopian Restaurant   1.0\n",
      "1     African Restaurant   0.0\n",
      "2  Portuguese Restaurant   0.0\n",
      "\n",
      "\n",
      "----Regent Park , Harbourfront----\n",
      "                   venue  freq\n",
      "0   Ethiopian Restaurant   1.0\n",
      "1     African Restaurant   0.0\n",
      "2  Portuguese Restaurant   0.0\n",
      "\n",
      "\n",
      "----Richmond , Adelaide , King----\n",
      "                   venue  freq\n",
      "0     African Restaurant   0.5\n",
      "1   Ethiopian Restaurant   0.5\n",
      "2  Portuguese Restaurant   0.0\n",
      "\n",
      "\n",
      "----St. James Town----\n",
      "                   venue  freq\n",
      "0   Ethiopian Restaurant   1.0\n",
      "1     African Restaurant   0.0\n",
      "2  Portuguese Restaurant   0.0\n",
      "\n",
      "\n",
      "----St. James Town , Cabbagetown----\n",
      "                   venue  freq\n",
      "0     African Restaurant   0.5\n",
      "1   Ethiopian Restaurant   0.5\n",
      "2  Portuguese Restaurant   0.0\n",
      "\n",
      "\n",
      "----Toronto Dominion Centre , Design Exchange----\n",
      "                   venue  freq\n",
      "0     African Restaurant   1.0\n",
      "1   Ethiopian Restaurant   0.0\n",
      "2  Portuguese Restaurant   0.0\n",
      "\n",
      "\n",
      "----University of Toronto , Harbord----\n",
      "                  venue  freq\n",
      "0  Ethiopian Restaurant   0.5\n",
      "1            Restaurant   0.5\n",
      "2    African Restaurant   0.0\n",
      "\n",
      "\n"
     ]
    }
   ],
   "source": [
    "#Top 3 most common venues in each neighborhood\n",
    "num_top_venues = 3\n",
    "\n",
    "for hood in Toronto_grouped['Neighborhood']:\n",
    "    print(\"----\"+hood+\"----\")\n",
    "    temp = Toronto_grouped[Toronto_grouped['Neighborhood'] == hood].T.reset_index()\n",
    "    temp.columns = ['venue','freq']\n",
    "    temp = temp.iloc[1:]\n",
    "    temp['freq'] = temp['freq'].astype(float)\n",
    "    temp = temp.round({'freq': 2})\n",
    "    print(temp.sort_values('freq', ascending=False).reset_index(drop=True).head(num_top_venues))\n",
    "    print('\\n')"
   ]
  },
  {
   "cell_type": "code",
   "execution_count": 18,
   "metadata": {},
   "outputs": [],
   "source": [
    "def return_most_common_venues(row, num_top_venues):\n",
    "    '''This function sorts venues in descending order'''\n",
    "    row_categories = row.iloc[1:]\n",
    "    row_categories_sorted = row_categories.sort_values(ascending=False)\n",
    "    \n",
    "    return row_categories_sorted.index.values[0:num_top_venues]"
   ]
  },
  {
   "cell_type": "markdown",
   "metadata": {},
   "source": [
    "Create dataframe for each neighbourhood with top venues"
   ]
  },
  {
   "cell_type": "code",
   "execution_count": 19,
   "metadata": {},
   "outputs": [
    {
     "data": {
      "text/html": [
       "<div>\n",
       "<style scoped>\n",
       "    .dataframe tbody tr th:only-of-type {\n",
       "        vertical-align: middle;\n",
       "    }\n",
       "\n",
       "    .dataframe tbody tr th {\n",
       "        vertical-align: top;\n",
       "    }\n",
       "\n",
       "    .dataframe thead th {\n",
       "        text-align: right;\n",
       "    }\n",
       "</style>\n",
       "<table border=\"1\" class=\"dataframe\">\n",
       "  <thead>\n",
       "    <tr style=\"text-align: right;\">\n",
       "      <th></th>\n",
       "      <th>Neighborhood</th>\n",
       "      <th>1st Most Common Venue</th>\n",
       "      <th>2nd Most Common Venue</th>\n",
       "      <th>3rd Most Common Venue</th>\n",
       "    </tr>\n",
       "  </thead>\n",
       "  <tbody>\n",
       "    <tr>\n",
       "      <td>0</td>\n",
       "      <td>Berczy Park</td>\n",
       "      <td>Ethiopian Restaurant</td>\n",
       "      <td>Restaurant</td>\n",
       "      <td>Portuguese Restaurant</td>\n",
       "    </tr>\n",
       "    <tr>\n",
       "      <td>1</td>\n",
       "      <td>CN Tower , King and Spadina , Railway Lands , ...</td>\n",
       "      <td>Portuguese Restaurant</td>\n",
       "      <td>Restaurant</td>\n",
       "      <td>Ethiopian Restaurant</td>\n",
       "    </tr>\n",
       "    <tr>\n",
       "      <td>2</td>\n",
       "      <td>Central Bay Street</td>\n",
       "      <td>Ethiopian Restaurant</td>\n",
       "      <td>African Restaurant</td>\n",
       "      <td>Restaurant</td>\n",
       "    </tr>\n",
       "    <tr>\n",
       "      <td>3</td>\n",
       "      <td>Christie</td>\n",
       "      <td>Ethiopian Restaurant</td>\n",
       "      <td>African Restaurant</td>\n",
       "      <td>Restaurant</td>\n",
       "    </tr>\n",
       "    <tr>\n",
       "      <td>4</td>\n",
       "      <td>Church and Wellesley</td>\n",
       "      <td>Ethiopian Restaurant</td>\n",
       "      <td>Restaurant</td>\n",
       "      <td>Portuguese Restaurant</td>\n",
       "    </tr>\n",
       "  </tbody>\n",
       "</table>\n",
       "</div>"
      ],
      "text/plain": [
       "                                        Neighborhood  1st Most Common Venue  \\\n",
       "0                                        Berczy Park   Ethiopian Restaurant   \n",
       "1  CN Tower , King and Spadina , Railway Lands , ...  Portuguese Restaurant   \n",
       "2                                 Central Bay Street   Ethiopian Restaurant   \n",
       "3                                           Christie   Ethiopian Restaurant   \n",
       "4                               Church and Wellesley   Ethiopian Restaurant   \n",
       "\n",
       "  2nd Most Common Venue  3rd Most Common Venue  \n",
       "0            Restaurant  Portuguese Restaurant  \n",
       "1            Restaurant   Ethiopian Restaurant  \n",
       "2    African Restaurant             Restaurant  \n",
       "3    African Restaurant             Restaurant  \n",
       "4            Restaurant  Portuguese Restaurant  "
      ]
     },
     "execution_count": 19,
     "metadata": {},
     "output_type": "execute_result"
    }
   ],
   "source": [
    "num_top_venues = 3\n",
    "\n",
    "indicators = ['st', 'nd', 'rd']\n",
    "\n",
    "# create columns according to number of top venues\n",
    "columns = ['Neighborhood']\n",
    "for ind in np.arange(num_top_venues):\n",
    "    try:\n",
    "        columns.append('{}{} Most Common Venue'.format(ind+1, indicators[ind]))\n",
    "    except:\n",
    "        columns.append('{}th Most Common Venue'.format(ind+1))\n",
    "\n",
    "# create a new dataframe\n",
    "neighborhoods_venues_sorted = pd.DataFrame(columns=columns)\n",
    "neighborhoods_venues_sorted['Neighborhood'] = Toronto_grouped['Neighborhood']\n",
    "\n",
    "for ind in np.arange(Toronto_grouped.shape[0]):\n",
    "    neighborhoods_venues_sorted.iloc[ind, 1:] = return_most_common_venues(Toronto_grouped.iloc[ind, :], num_top_venues)\n",
    "\n",
    "neighborhoods_venues_sorted.head()"
   ]
  },
  {
   "cell_type": "markdown",
   "metadata": {},
   "source": [
    "## Model Development"
   ]
  },
  {
   "cell_type": "markdown",
   "metadata": {},
   "source": [
    "### Cluster Neighbour"
   ]
  },
  {
   "cell_type": "code",
   "execution_count": 20,
   "metadata": {},
   "outputs": [],
   "source": [
    "# Import required packages\n",
    "from sklearn.preprocessing import MinMaxScaler\n",
    "from sklearn.cluster import KMeans\n",
    "import matplotlib.pyplot as plt"
   ]
  },
  {
   "cell_type": "markdown",
   "metadata": {},
   "source": [
    "Determine the number of clusters to use for the KMeans"
   ]
  },
  {
   "cell_type": "code",
   "execution_count": 21,
   "metadata": {},
   "outputs": [
    {
     "data": {
      "text/html": [
       "<div>\n",
       "<style scoped>\n",
       "    .dataframe tbody tr th:only-of-type {\n",
       "        vertical-align: middle;\n",
       "    }\n",
       "\n",
       "    .dataframe tbody tr th {\n",
       "        vertical-align: top;\n",
       "    }\n",
       "\n",
       "    .dataframe thead th {\n",
       "        text-align: right;\n",
       "    }\n",
       "</style>\n",
       "<table border=\"1\" class=\"dataframe\">\n",
       "  <thead>\n",
       "    <tr style=\"text-align: right;\">\n",
       "      <th></th>\n",
       "      <th>African Restaurant</th>\n",
       "      <th>Ethiopian Restaurant</th>\n",
       "      <th>Portuguese Restaurant</th>\n",
       "      <th>Restaurant</th>\n",
       "    </tr>\n",
       "  </thead>\n",
       "  <tbody>\n",
       "    <tr>\n",
       "      <td>0</td>\n",
       "      <td>0.000000</td>\n",
       "      <td>1.000000</td>\n",
       "      <td>0.0</td>\n",
       "      <td>0.0</td>\n",
       "    </tr>\n",
       "    <tr>\n",
       "      <td>1</td>\n",
       "      <td>0.000000</td>\n",
       "      <td>0.000000</td>\n",
       "      <td>1.0</td>\n",
       "      <td>0.0</td>\n",
       "    </tr>\n",
       "    <tr>\n",
       "      <td>2</td>\n",
       "      <td>0.500000</td>\n",
       "      <td>0.500000</td>\n",
       "      <td>0.0</td>\n",
       "      <td>0.0</td>\n",
       "    </tr>\n",
       "    <tr>\n",
       "      <td>3</td>\n",
       "      <td>0.333333</td>\n",
       "      <td>0.666667</td>\n",
       "      <td>0.0</td>\n",
       "      <td>0.0</td>\n",
       "    </tr>\n",
       "    <tr>\n",
       "      <td>4</td>\n",
       "      <td>0.000000</td>\n",
       "      <td>1.000000</td>\n",
       "      <td>0.0</td>\n",
       "      <td>0.0</td>\n",
       "    </tr>\n",
       "  </tbody>\n",
       "</table>\n",
       "</div>"
      ],
      "text/plain": [
       "   African Restaurant  Ethiopian Restaurant  Portuguese Restaurant  Restaurant\n",
       "0            0.000000              1.000000                    0.0         0.0\n",
       "1            0.000000              0.000000                    1.0         0.0\n",
       "2            0.500000              0.500000                    0.0         0.0\n",
       "3            0.333333              0.666667                    0.0         0.0\n",
       "4            0.000000              1.000000                    0.0         0.0"
      ]
     },
     "execution_count": 21,
     "metadata": {},
     "output_type": "execute_result"
    }
   ],
   "source": [
    "Toronto_grouped_clustering = Toronto_grouped.drop('Neighborhood', 1)\n",
    "Toronto_grouped_clustering.head()"
   ]
  },
  {
   "cell_type": "code",
   "execution_count": 22,
   "metadata": {},
   "outputs": [],
   "source": [
    "Sum_of_squared_distances = []\n",
    "K = range(1,8)\n",
    "for k in K:\n",
    "    km = KMeans(n_clusters=k)\n",
    "    km = km.fit(Toronto_grouped_clustering)\n",
    "    Sum_of_squared_distances.append(km.inertia_)"
   ]
  },
  {
   "cell_type": "code",
   "execution_count": 23,
   "metadata": {},
   "outputs": [
    {
     "data": {
      "image/png": "[encoded data removed]",
      "text/plain": [
       "<Figure size 432x288 with 1 Axes>"
      ]
     },
     "metadata": {
      "needs_background": "light"
     },
     "output_type": "display_data"
    }
   ],
   "source": [
    "plt.plot(K, Sum_of_squared_distances, 'bx-')\n",
    "plt.xlabel('k')\n",
    "plt.ylabel('Sum_of_squared_distances')\n",
    "plt.title('Elbow Method For Optimal k')\n",
    "plt.show()"
   ]
  },
  {
   "cell_type": "markdown",
   "metadata": {},
   "source": [
    "Run *k*-means to cluster the neighborhood into 3 clusters."
   ]
  },
  {
   "cell_type": "code",
   "execution_count": 24,
   "metadata": {},
   "outputs": [
    {
     "data": {
      "text/plain": [
       "array([0, 2, 1, 1, 0, 1, 1, 0, 1, 0])"
      ]
     },
     "execution_count": 24,
     "metadata": {},
     "output_type": "execute_result"
    }
   ],
   "source": [
    "# set number of clusters\n",
    "kclusters = 3\n",
    "\n",
    "# run k-means clustering\n",
    "kmeans = KMeans(n_clusters=kclusters, random_state=0).fit(Toronto_grouped_clustering)\n",
    "\n",
    "# check cluster labels generated for each row in the dataframe\n",
    "kmeans.labels_[0:10]"
   ]
  },
  {
   "cell_type": "markdown",
   "metadata": {},
   "source": [
    "Create dataframe that includes the cluster as well as the venues for each neighbourhood"
   ]
  },
  {
   "cell_type": "code",
   "execution_count": 25,
   "metadata": {},
   "outputs": [
    {
     "data": {
      "text/html": [
       "<div>\n",
       "<style scoped>\n",
       "    .dataframe tbody tr th:only-of-type {\n",
       "        vertical-align: middle;\n",
       "    }\n",
       "\n",
       "    .dataframe tbody tr th {\n",
       "        vertical-align: top;\n",
       "    }\n",
       "\n",
       "    .dataframe thead th {\n",
       "        text-align: right;\n",
       "    }\n",
       "</style>\n",
       "<table border=\"1\" class=\"dataframe\">\n",
       "  <thead>\n",
       "    <tr style=\"text-align: right;\">\n",
       "      <th></th>\n",
       "      <th>Postal code</th>\n",
       "      <th>Borough</th>\n",
       "      <th>Neighborhood</th>\n",
       "      <th>Latitude</th>\n",
       "      <th>Longitude</th>\n",
       "      <th>Cluster Labels</th>\n",
       "      <th>1st Most Common Venue</th>\n",
       "      <th>2nd Most Common Venue</th>\n",
       "      <th>3rd Most Common Venue</th>\n",
       "    </tr>\n",
       "  </thead>\n",
       "  <tbody>\n",
       "    <tr>\n",
       "      <td>4</td>\n",
       "      <td>M5A</td>\n",
       "      <td>Downtown Toronto</td>\n",
       "      <td>Regent Park , Harbourfront</td>\n",
       "      <td>43.6555</td>\n",
       "      <td>-79.3626</td>\n",
       "      <td>0</td>\n",
       "      <td>Ethiopian Restaurant</td>\n",
       "      <td>Restaurant</td>\n",
       "      <td>Portuguese Restaurant</td>\n",
       "    </tr>\n",
       "    <tr>\n",
       "      <td>6</td>\n",
       "      <td>M7A</td>\n",
       "      <td>Downtown Toronto</td>\n",
       "      <td>Queen's Park , Ontario Provincial Government</td>\n",
       "      <td>43.6641</td>\n",
       "      <td>-79.3889</td>\n",
       "      <td>0</td>\n",
       "      <td>Ethiopian Restaurant</td>\n",
       "      <td>Restaurant</td>\n",
       "      <td>Portuguese Restaurant</td>\n",
       "    </tr>\n",
       "    <tr>\n",
       "      <td>13</td>\n",
       "      <td>M5B</td>\n",
       "      <td>Downtown Toronto</td>\n",
       "      <td>Garden District, Ryerson</td>\n",
       "      <td>43.6572</td>\n",
       "      <td>-79.3783</td>\n",
       "      <td>0</td>\n",
       "      <td>Ethiopian Restaurant</td>\n",
       "      <td>Restaurant</td>\n",
       "      <td>Portuguese Restaurant</td>\n",
       "    </tr>\n",
       "    <tr>\n",
       "      <td>22</td>\n",
       "      <td>M5C</td>\n",
       "      <td>Downtown Toronto</td>\n",
       "      <td>St. James Town</td>\n",
       "      <td>43.6513</td>\n",
       "      <td>-79.3756</td>\n",
       "      <td>0</td>\n",
       "      <td>Ethiopian Restaurant</td>\n",
       "      <td>Restaurant</td>\n",
       "      <td>Portuguese Restaurant</td>\n",
       "    </tr>\n",
       "    <tr>\n",
       "      <td>31</td>\n",
       "      <td>M5E</td>\n",
       "      <td>Downtown Toronto</td>\n",
       "      <td>Berczy Park</td>\n",
       "      <td>43.6456</td>\n",
       "      <td>-79.3754</td>\n",
       "      <td>0</td>\n",
       "      <td>Ethiopian Restaurant</td>\n",
       "      <td>Restaurant</td>\n",
       "      <td>Portuguese Restaurant</td>\n",
       "    </tr>\n",
       "  </tbody>\n",
       "</table>\n",
       "</div>"
      ],
      "text/plain": [
       "   Postal code           Borough  \\\n",
       "4          M5A  Downtown Toronto   \n",
       "6          M7A  Downtown Toronto   \n",
       "13         M5B  Downtown Toronto   \n",
       "22         M5C  Downtown Toronto   \n",
       "31         M5E  Downtown Toronto   \n",
       "\n",
       "                                    Neighborhood  Latitude  Longitude  \\\n",
       "4                     Regent Park , Harbourfront   43.6555   -79.3626   \n",
       "6   Queen's Park , Ontario Provincial Government   43.6641   -79.3889   \n",
       "13                      Garden District, Ryerson   43.6572   -79.3783   \n",
       "22                                St. James Town   43.6513   -79.3756   \n",
       "31                                   Berczy Park   43.6456   -79.3754   \n",
       "\n",
       "    Cluster Labels 1st Most Common Venue 2nd Most Common Venue  \\\n",
       "4                0  Ethiopian Restaurant            Restaurant   \n",
       "6                0  Ethiopian Restaurant            Restaurant   \n",
       "13               0  Ethiopian Restaurant            Restaurant   \n",
       "22               0  Ethiopian Restaurant            Restaurant   \n",
       "31               0  Ethiopian Restaurant            Restaurant   \n",
       "\n",
       "    3rd Most Common Venue  \n",
       "4   Portuguese Restaurant  \n",
       "6   Portuguese Restaurant  \n",
       "13  Portuguese Restaurant  \n",
       "22  Portuguese Restaurant  \n",
       "31  Portuguese Restaurant  "
      ]
     },
     "execution_count": 25,
     "metadata": {},
     "output_type": "execute_result"
    }
   ],
   "source": [
    "# add clustering labels\n",
    "neighborhoods_venues_sorted.insert(0, 'Cluster Labels', kmeans.labels_)\n",
    "\n",
    "Toronto_merged = Toronto_data\n",
    "\n",
    "# merge toronto_grouped with toronto_data to add latitude/longitude for each neighborhood\n",
    "Toronto_merged = Toronto_merged.join(neighborhoods_venues_sorted.set_index('Neighborhood'), on='Neighborhood')\n",
    "\n",
    "#Drop row with missing cluster values\n",
    "Toronto_merged=Toronto_merged.dropna(subset=['Cluster Labels'])\n",
    "Toronto_merged['Cluster Labels'] = Toronto_merged['Cluster Labels'].astype(int)\n",
    "\n",
    "Toronto_merged.head() "
   ]
  },
  {
   "cell_type": "markdown",
   "metadata": {},
   "source": [
    "Visualize resulting clusters"
   ]
  },
  {
   "cell_type": "code",
   "execution_count": 26,
   "metadata": {},
   "outputs": [
    {
     "data": {
      "text/html": [
       "<div style=\"width:100%;\"><div style=\"position:relative;width:100%;height:0;padding-bottom:60%;\"><iframe src=\"about:blank\" style=\"position:absolute;width:100%;height:100%;left:0;top:0;border:none !important;\" data-html=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 onload=\"this.contentDocument.open();this.contentDocument.write(atob(this.getAttribute('data-html')));this.contentDocument.close();\" allowfullscreen webkitallowfullscreen mozallowfullscreen></iframe></div></div>"
      ],
      "text/plain": [
       "<folium.folium.Map at 0x1993baed1c8>"
      ]
     },
     "execution_count": 26,
     "metadata": {},
     "output_type": "execute_result"
    }
   ],
   "source": [
    "# create map\n",
    "map_clusters = folium.Map(location=[latitude, longitude], zoom_start=13)\n",
    "\n",
    "# set color scheme for the clusters\n",
    "x = np.arange(kclusters)\n",
    "ys = [i + x + (i*x)**2 for i in range(kclusters)]\n",
    "colors_array = cm.rainbow(np.linspace(0, 1, len(ys)))\n",
    "rainbow = [colors.rgb2hex(i) for i in colors_array]\n",
    "\n",
    "# add markers to the map\n",
    "markers_colors = []\n",
    "for lat, lon, poi, cluster in zip(Toronto_merged['Latitude'], Toronto_merged['Longitude'], Toronto_merged['Neighborhood'], Toronto_merged['Cluster Labels']):\n",
    "    label = folium.Popup(str(poi) + ' Cluster ' + str(cluster), parse_html=True)\n",
    "    folium.CircleMarker(\n",
    "        [lat, lon],\n",
    "        radius=7,\n",
    "        popup=label,\n",
    "        color=rainbow[int(cluster-1)],\n",
    "        fill=True,\n",
    "        fill_color=rainbow[int(cluster-1)],\n",
    "        fill_opacity=0.7).add_to(map_clusters)\n",
    "       \n",
    "map_clusters\n"
   ]
  },
  {
   "cell_type": "markdown",
   "metadata": {},
   "source": [
    "### Examine Clusters"
   ]
  },
  {
   "cell_type": "markdown",
   "metadata": {},
   "source": [
    "#### Cluster 0"
   ]
  },
  {
   "cell_type": "code",
   "execution_count": 27,
   "metadata": {},
   "outputs": [
    {
     "data": {
      "text/html": [
       "<div>\n",
       "<style scoped>\n",
       "    .dataframe tbody tr th:only-of-type {\n",
       "        vertical-align: middle;\n",
       "    }\n",
       "\n",
       "    .dataframe tbody tr th {\n",
       "        vertical-align: top;\n",
       "    }\n",
       "\n",
       "    .dataframe thead th {\n",
       "        text-align: right;\n",
       "    }\n",
       "</style>\n",
       "<table border=\"1\" class=\"dataframe\">\n",
       "  <thead>\n",
       "    <tr style=\"text-align: right;\">\n",
       "      <th></th>\n",
       "      <th>Postal code</th>\n",
       "      <th>Borough</th>\n",
       "      <th>Neighborhood</th>\n",
       "      <th>Latitude</th>\n",
       "      <th>Longitude</th>\n",
       "      <th>Cluster Labels</th>\n",
       "      <th>1st Most Common Venue</th>\n",
       "      <th>2nd Most Common Venue</th>\n",
       "      <th>3rd Most Common Venue</th>\n",
       "    </tr>\n",
       "  </thead>\n",
       "  <tbody>\n",
       "    <tr>\n",
       "      <td>4</td>\n",
       "      <td>M5A</td>\n",
       "      <td>Downtown Toronto</td>\n",
       "      <td>Regent Park , Harbourfront</td>\n",
       "      <td>43.6555</td>\n",
       "      <td>-79.3626</td>\n",
       "      <td>0</td>\n",
       "      <td>Ethiopian Restaurant</td>\n",
       "      <td>Restaurant</td>\n",
       "      <td>Portuguese Restaurant</td>\n",
       "    </tr>\n",
       "    <tr>\n",
       "      <td>6</td>\n",
       "      <td>M7A</td>\n",
       "      <td>Downtown Toronto</td>\n",
       "      <td>Queen's Park , Ontario Provincial Government</td>\n",
       "      <td>43.6641</td>\n",
       "      <td>-79.3889</td>\n",
       "      <td>0</td>\n",
       "      <td>Ethiopian Restaurant</td>\n",
       "      <td>Restaurant</td>\n",
       "      <td>Portuguese Restaurant</td>\n",
       "    </tr>\n",
       "    <tr>\n",
       "      <td>13</td>\n",
       "      <td>M5B</td>\n",
       "      <td>Downtown Toronto</td>\n",
       "      <td>Garden District, Ryerson</td>\n",
       "      <td>43.6572</td>\n",
       "      <td>-79.3783</td>\n",
       "      <td>0</td>\n",
       "      <td>Ethiopian Restaurant</td>\n",
       "      <td>Restaurant</td>\n",
       "      <td>Portuguese Restaurant</td>\n",
       "    </tr>\n",
       "    <tr>\n",
       "      <td>22</td>\n",
       "      <td>M5C</td>\n",
       "      <td>Downtown Toronto</td>\n",
       "      <td>St. James Town</td>\n",
       "      <td>43.6513</td>\n",
       "      <td>-79.3756</td>\n",
       "      <td>0</td>\n",
       "      <td>Ethiopian Restaurant</td>\n",
       "      <td>Restaurant</td>\n",
       "      <td>Portuguese Restaurant</td>\n",
       "    </tr>\n",
       "    <tr>\n",
       "      <td>31</td>\n",
       "      <td>M5E</td>\n",
       "      <td>Downtown Toronto</td>\n",
       "      <td>Berczy Park</td>\n",
       "      <td>43.6456</td>\n",
       "      <td>-79.3754</td>\n",
       "      <td>0</td>\n",
       "      <td>Ethiopian Restaurant</td>\n",
       "      <td>Restaurant</td>\n",
       "      <td>Portuguese Restaurant</td>\n",
       "    </tr>\n",
       "    <tr>\n",
       "      <td>121</td>\n",
       "      <td>M5S</td>\n",
       "      <td>Downtown Toronto</td>\n",
       "      <td>University of Toronto , Harbord</td>\n",
       "      <td>43.6629</td>\n",
       "      <td>-79.3987</td>\n",
       "      <td>0</td>\n",
       "      <td>Restaurant</td>\n",
       "      <td>Ethiopian Restaurant</td>\n",
       "      <td>Portuguese Restaurant</td>\n",
       "    </tr>\n",
       "    <tr>\n",
       "      <td>165</td>\n",
       "      <td>M4Y</td>\n",
       "      <td>Downtown Toronto</td>\n",
       "      <td>Church and Wellesley</td>\n",
       "      <td>43.6656</td>\n",
       "      <td>-79.3830</td>\n",
       "      <td>0</td>\n",
       "      <td>Ethiopian Restaurant</td>\n",
       "      <td>Restaurant</td>\n",
       "      <td>Portuguese Restaurant</td>\n",
       "    </tr>\n",
       "  </tbody>\n",
       "</table>\n",
       "</div>"
      ],
      "text/plain": [
       "    Postal code           Borough  \\\n",
       "4           M5A  Downtown Toronto   \n",
       "6           M7A  Downtown Toronto   \n",
       "13          M5B  Downtown Toronto   \n",
       "22          M5C  Downtown Toronto   \n",
       "31          M5E  Downtown Toronto   \n",
       "121         M5S  Downtown Toronto   \n",
       "165         M4Y  Downtown Toronto   \n",
       "\n",
       "                                     Neighborhood  Latitude  Longitude  \\\n",
       "4                      Regent Park , Harbourfront   43.6555   -79.3626   \n",
       "6    Queen's Park , Ontario Provincial Government   43.6641   -79.3889   \n",
       "13                       Garden District, Ryerson   43.6572   -79.3783   \n",
       "22                                 St. James Town   43.6513   -79.3756   \n",
       "31                                    Berczy Park   43.6456   -79.3754   \n",
       "121               University of Toronto , Harbord   43.6629   -79.3987   \n",
       "165                          Church and Wellesley   43.6656   -79.3830   \n",
       "\n",
       "     Cluster Labels 1st Most Common Venue 2nd Most Common Venue  \\\n",
       "4                 0  Ethiopian Restaurant            Restaurant   \n",
       "6                 0  Ethiopian Restaurant            Restaurant   \n",
       "13                0  Ethiopian Restaurant            Restaurant   \n",
       "22                0  Ethiopian Restaurant            Restaurant   \n",
       "31                0  Ethiopian Restaurant            Restaurant   \n",
       "121               0            Restaurant  Ethiopian Restaurant   \n",
       "165               0  Ethiopian Restaurant            Restaurant   \n",
       "\n",
       "     3rd Most Common Venue  \n",
       "4    Portuguese Restaurant  \n",
       "6    Portuguese Restaurant  \n",
       "13   Portuguese Restaurant  \n",
       "22   Portuguese Restaurant  \n",
       "31   Portuguese Restaurant  \n",
       "121  Portuguese Restaurant  \n",
       "165  Portuguese Restaurant  "
      ]
     },
     "execution_count": 27,
     "metadata": {},
     "output_type": "execute_result"
    }
   ],
   "source": [
    "Toronto_merged.loc[Toronto_merged['Cluster Labels'] == 0, Toronto_merged.columns]"
   ]
  },
  {
   "cell_type": "markdown",
   "metadata": {},
   "source": [
    "#### Cluster 1"
   ]
  },
  {
   "cell_type": "code",
   "execution_count": 28,
   "metadata": {
    "scrolled": true
   },
   "outputs": [
    {
     "data": {
      "text/html": [
       "<div>\n",
       "<style scoped>\n",
       "    .dataframe tbody tr th:only-of-type {\n",
       "        vertical-align: middle;\n",
       "    }\n",
       "\n",
       "    .dataframe tbody tr th {\n",
       "        vertical-align: top;\n",
       "    }\n",
       "\n",
       "    .dataframe thead th {\n",
       "        text-align: right;\n",
       "    }\n",
       "</style>\n",
       "<table border=\"1\" class=\"dataframe\">\n",
       "  <thead>\n",
       "    <tr style=\"text-align: right;\">\n",
       "      <th></th>\n",
       "      <th>Postal code</th>\n",
       "      <th>Borough</th>\n",
       "      <th>Neighborhood</th>\n",
       "      <th>Latitude</th>\n",
       "      <th>Longitude</th>\n",
       "      <th>Cluster Labels</th>\n",
       "      <th>1st Most Common Venue</th>\n",
       "      <th>2nd Most Common Venue</th>\n",
       "      <th>3rd Most Common Venue</th>\n",
       "    </tr>\n",
       "  </thead>\n",
       "  <tbody>\n",
       "    <tr>\n",
       "      <td>40</td>\n",
       "      <td>M5G</td>\n",
       "      <td>Downtown Toronto</td>\n",
       "      <td>Central Bay Street</td>\n",
       "      <td>43.6564</td>\n",
       "      <td>-79.3860</td>\n",
       "      <td>1</td>\n",
       "      <td>Ethiopian Restaurant</td>\n",
       "      <td>African Restaurant</td>\n",
       "      <td>Restaurant</td>\n",
       "    </tr>\n",
       "    <tr>\n",
       "      <td>41</td>\n",
       "      <td>M6G</td>\n",
       "      <td>Downtown Toronto</td>\n",
       "      <td>Christie</td>\n",
       "      <td>43.6683</td>\n",
       "      <td>-79.4205</td>\n",
       "      <td>1</td>\n",
       "      <td>Ethiopian Restaurant</td>\n",
       "      <td>African Restaurant</td>\n",
       "      <td>Restaurant</td>\n",
       "    </tr>\n",
       "    <tr>\n",
       "      <td>49</td>\n",
       "      <td>M5H</td>\n",
       "      <td>Downtown Toronto</td>\n",
       "      <td>Richmond , Adelaide , King</td>\n",
       "      <td>43.6496</td>\n",
       "      <td>-79.3833</td>\n",
       "      <td>1</td>\n",
       "      <td>Ethiopian Restaurant</td>\n",
       "      <td>African Restaurant</td>\n",
       "      <td>Restaurant</td>\n",
       "    </tr>\n",
       "    <tr>\n",
       "      <td>67</td>\n",
       "      <td>M5K</td>\n",
       "      <td>Downtown Toronto</td>\n",
       "      <td>Toronto Dominion Centre , Design Exchange</td>\n",
       "      <td>43.6469</td>\n",
       "      <td>-79.3823</td>\n",
       "      <td>1</td>\n",
       "      <td>African Restaurant</td>\n",
       "      <td>Restaurant</td>\n",
       "      <td>Portuguese Restaurant</td>\n",
       "    </tr>\n",
       "    <tr>\n",
       "      <td>76</td>\n",
       "      <td>M5L</td>\n",
       "      <td>Downtown Toronto</td>\n",
       "      <td>Commerce Court , Victoria Hotel</td>\n",
       "      <td>43.6492</td>\n",
       "      <td>-79.3823</td>\n",
       "      <td>1</td>\n",
       "      <td>Ethiopian Restaurant</td>\n",
       "      <td>African Restaurant</td>\n",
       "      <td>Restaurant</td>\n",
       "    </tr>\n",
       "    <tr>\n",
       "      <td>130</td>\n",
       "      <td>M5T</td>\n",
       "      <td>Downtown Toronto</td>\n",
       "      <td>Kensington Market , Chinatown , Grange Park</td>\n",
       "      <td>43.6541</td>\n",
       "      <td>-79.3978</td>\n",
       "      <td>1</td>\n",
       "      <td>African Restaurant</td>\n",
       "      <td>Ethiopian Restaurant</td>\n",
       "      <td>Restaurant</td>\n",
       "    </tr>\n",
       "    <tr>\n",
       "      <td>156</td>\n",
       "      <td>M4X</td>\n",
       "      <td>Downtown Toronto</td>\n",
       "      <td>St. James Town , Cabbagetown</td>\n",
       "      <td>43.6684</td>\n",
       "      <td>-79.3689</td>\n",
       "      <td>1</td>\n",
       "      <td>Ethiopian Restaurant</td>\n",
       "      <td>African Restaurant</td>\n",
       "      <td>Restaurant</td>\n",
       "    </tr>\n",
       "    <tr>\n",
       "      <td>157</td>\n",
       "      <td>M5X</td>\n",
       "      <td>Downtown Toronto</td>\n",
       "      <td>First Canadian Place , Underground city</td>\n",
       "      <td>43.6492</td>\n",
       "      <td>-79.3823</td>\n",
       "      <td>1</td>\n",
       "      <td>Ethiopian Restaurant</td>\n",
       "      <td>African Restaurant</td>\n",
       "      <td>Restaurant</td>\n",
       "    </tr>\n",
       "  </tbody>\n",
       "</table>\n",
       "</div>"
      ],
      "text/plain": [
       "    Postal code           Borough  \\\n",
       "40          M5G  Downtown Toronto   \n",
       "41          M6G  Downtown Toronto   \n",
       "49          M5H  Downtown Toronto   \n",
       "67          M5K  Downtown Toronto   \n",
       "76          M5L  Downtown Toronto   \n",
       "130         M5T  Downtown Toronto   \n",
       "156         M4X  Downtown Toronto   \n",
       "157         M5X  Downtown Toronto   \n",
       "\n",
       "                                    Neighborhood  Latitude  Longitude  \\\n",
       "40                            Central Bay Street   43.6564   -79.3860   \n",
       "41                                      Christie   43.6683   -79.4205   \n",
       "49                    Richmond , Adelaide , King   43.6496   -79.3833   \n",
       "67     Toronto Dominion Centre , Design Exchange   43.6469   -79.3823   \n",
       "76               Commerce Court , Victoria Hotel   43.6492   -79.3823   \n",
       "130  Kensington Market , Chinatown , Grange Park   43.6541   -79.3978   \n",
       "156                 St. James Town , Cabbagetown   43.6684   -79.3689   \n",
       "157      First Canadian Place , Underground city   43.6492   -79.3823   \n",
       "\n",
       "     Cluster Labels 1st Most Common Venue 2nd Most Common Venue  \\\n",
       "40                1  Ethiopian Restaurant    African Restaurant   \n",
       "41                1  Ethiopian Restaurant    African Restaurant   \n",
       "49                1  Ethiopian Restaurant    African Restaurant   \n",
       "67                1    African Restaurant            Restaurant   \n",
       "76                1  Ethiopian Restaurant    African Restaurant   \n",
       "130               1    African Restaurant  Ethiopian Restaurant   \n",
       "156               1  Ethiopian Restaurant    African Restaurant   \n",
       "157               1  Ethiopian Restaurant    African Restaurant   \n",
       "\n",
       "     3rd Most Common Venue  \n",
       "40              Restaurant  \n",
       "41              Restaurant  \n",
       "49              Restaurant  \n",
       "67   Portuguese Restaurant  \n",
       "76              Restaurant  \n",
       "130             Restaurant  \n",
       "156             Restaurant  \n",
       "157             Restaurant  "
      ]
     },
     "execution_count": 28,
     "metadata": {},
     "output_type": "execute_result"
    }
   ],
   "source": [
    "Toronto_merged.loc[Toronto_merged['Cluster Labels'] == 1, Toronto_merged.columns]"
   ]
  },
  {
   "cell_type": "markdown",
   "metadata": {},
   "source": [
    "#### Cluster 2"
   ]
  },
  {
   "cell_type": "code",
   "execution_count": 29,
   "metadata": {},
   "outputs": [
    {
     "data": {
      "text/html": [
       "<div>\n",
       "<style scoped>\n",
       "    .dataframe tbody tr th:only-of-type {\n",
       "        vertical-align: middle;\n",
       "    }\n",
       "\n",
       "    .dataframe tbody tr th {\n",
       "        vertical-align: top;\n",
       "    }\n",
       "\n",
       "    .dataframe thead th {\n",
       "        text-align: right;\n",
       "    }\n",
       "</style>\n",
       "<table border=\"1\" class=\"dataframe\">\n",
       "  <thead>\n",
       "    <tr style=\"text-align: right;\">\n",
       "      <th></th>\n",
       "      <th>Postal code</th>\n",
       "      <th>Borough</th>\n",
       "      <th>Neighborhood</th>\n",
       "      <th>Latitude</th>\n",
       "      <th>Longitude</th>\n",
       "      <th>Cluster Labels</th>\n",
       "      <th>1st Most Common Venue</th>\n",
       "      <th>2nd Most Common Venue</th>\n",
       "      <th>3rd Most Common Venue</th>\n",
       "    </tr>\n",
       "  </thead>\n",
       "  <tbody>\n",
       "    <tr>\n",
       "      <td>139</td>\n",
       "      <td>M5V</td>\n",
       "      <td>Downtown Toronto</td>\n",
       "      <td>CN Tower , King and Spadina , Railway Lands , ...</td>\n",
       "      <td>43.6404</td>\n",
       "      <td>-79.3995</td>\n",
       "      <td>2</td>\n",
       "      <td>Portuguese Restaurant</td>\n",
       "      <td>Restaurant</td>\n",
       "      <td>Ethiopian Restaurant</td>\n",
       "    </tr>\n",
       "  </tbody>\n",
       "</table>\n",
       "</div>"
      ],
      "text/plain": [
       "    Postal code           Borough  \\\n",
       "139         M5V  Downtown Toronto   \n",
       "\n",
       "                                          Neighborhood  Latitude  Longitude  \\\n",
       "139  CN Tower , King and Spadina , Railway Lands , ...   43.6404   -79.3995   \n",
       "\n",
       "     Cluster Labels  1st Most Common Venue 2nd Most Common Venue  \\\n",
       "139               2  Portuguese Restaurant            Restaurant   \n",
       "\n",
       "    3rd Most Common Venue  \n",
       "139  Ethiopian Restaurant  "
      ]
     },
     "execution_count": 29,
     "metadata": {},
     "output_type": "execute_result"
    }
   ],
   "source": [
    "Toronto_merged.loc[Toronto_merged['Cluster Labels'] == 2, Toronto_merged.columns]"
   ]
  },
  {
   "cell_type": "markdown",
   "metadata": {},
   "source": [
    "# Results and Discussions <a name=\"results\"></a>"
   ]
  },
  {
   "cell_type": "markdown",
   "metadata": {},
   "source": [
    "<p style=\"font-size:24px\">The results shows that neighbourhoods in cluster 0 and cluster 1 have African restaurants as the most common venues. To open the restaurants in neighbourhoods with no or few African restaurants, the results show that neighbourhoods in cluster 2 would be the best place for the African Restaurant chain to open their proposed Ghanaian restaurants.<br><br>The best neighbourhoods to open the proposed Ghanaian restaurants are CN Tower, King and Spadina, Railways Lands, Harbourfront West, Bathurst Quay, South Niagara and Island airport.\n",
    "</p>"
   ]
  },
  {
   "cell_type": "markdown",
   "metadata": {},
   "source": [
    "# Conclusions <a name=\"conclusions\"></a>"
   ]
  },
  {
   "cell_type": "markdown",
   "metadata": {},
   "source": [
    "<p style=\"font-size:24px\">The objective of this project was to identify neighbourhoods in downtown Toronto that would be good candidate locations for opening Ghanaian restaurants. By clustering African restaurants in Downtown Toronto using Foursquare and Toronto neighbourhoods data, I have identified CN Tower, King and Spadina, Railways Lands, Harbourfront West, Bathurst Quay, South Niagara and Island airport as neighbourhoods that would be optimal for opening Ghanaian restaurants.\n",
    "</p>"
   ]
  }
 ],
 "metadata": {
  "kernelspec": {
   "display_name": "Python 3",
   "language": "python",
   "name": "python3"
  },
  "language_info": {
   "codemirror_mode": {
    "name": "ipython",
    "version": 3
   },
   "file_extension": ".py",
   "mimetype": "text/x-python",
   "name": "python",
   "nbconvert_exporter": "python",
   "pygments_lexer": "ipython3",
   "version": "3.7.4"
  }
 },
 "nbformat": 4,
 "nbformat_minor": 2
}
