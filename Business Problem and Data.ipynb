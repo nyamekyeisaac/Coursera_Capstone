{
 "cells": [
  {
   "cell_type": "markdown",
   "metadata": {},
   "source": [
    "<h1 style=\"color:black;text-align:center\">Capstone Project</h1>\n",
    "<h1 style=\"color:slateblue;text-align:center\">IBM Professional Certificate in Data Science</h1><br><br>\n",
    "<h2 style=\"color:gray;text-align:center\"><i>Opening a African Restaurant in Downtown Toronto, Canada</i></h2><br>\n",
    "<img align=\"center\"  src=\"https://www.senecacollege.ca/content/dam/projects/seneca/homepage-assets/homepage_intl.jpg\" width=700 height=400></img><br></br>\n",
    "<p style=\"color:slateblue;text-align:center;font-size:24px\">By Isaac Nyamekye<br><br><i>April 2020</i></p>"
   ]
  },
  {
   "cell_type": "markdown",
   "metadata": {},
   "source": [
    "---\n",
    "# Table of contents\n",
    "* [Background and Business Problem](#introduction)\n",
    "* [Data](#data)"
   ]
  },
  {
   "cell_type": "markdown",
   "metadata": {},
   "source": [
    "# Background and Business Problem <a name=\"introduction\"></a>"
   ]
  },
  {
   "cell_type": "markdown",
   "metadata": {},
   "source": [
    "<p style=\"font-size:24px\">Toronto is the most populous city in Canada and the provincial capital of Ontario. The city is very diverse and home to a large immigrant population. Because of the cultural diversity of its inhabitants, the city has a dynamic and diverse culinary scene.<br><br>\n",
    "However, there are a few Ghanaian (West Africa) restaurants, especially, in downtown Toronto. An African restaurant chain would like to change this by opening a couple of Ghanaian restaurants in downtown Toronto. <br><br>\n",
    "To reduce competition with other African restaurants, the company would like to open their Ghanaian restaurants in neighbourhoods that have no or very few African restaurants. The purpose of this project would be to identify such neighbourhoods in downtown Toronto.\n",
    "</p>"
   ]
  },
  {
   "cell_type": "markdown",
   "metadata": {},
   "source": [
    "# Data <a name=\"data\"></a>"
   ]
  },
  {
   "cell_type": "markdown",
   "metadata": {},
   "source": [
    "<p style=\"font-size:24px\">This project will make use of data from:<br><ul style=\"list-style-type:circle;\">\n",
    "    <li style=\"font-size:24px\"><a href=\"https://en.wikipedia.org/wiki/List_of_postal_codes_of_Canada:_M\"><b>Toronto Wikipedia page</b></a>: I will scrape postal codes, boroughs and neighbourhoods names from this page. Since the focus of my project is downtown Toronto, I will only consider neighbourhoods in that borough.</li><br>\n",
    "    <li style=\"font-size:24px\"><b>Geopy package:</b> This package will be used to generate geolocation data (latitude and longitude) for the downtown Toronto neighbourhoods.</li><br>\n",
    "    <li style=\"font-size:24px\"><b>Foursquare API:</b> From the location data obtained from web scraping and geocoding, I plan to use the Foursquare API to generate African restaurant venue details for the respective the neighbourhoods.</li>"
   ]
  }
 ],
 "metadata": {
  "kernelspec": {
   "display_name": "Python 3",
   "language": "python",
   "name": "python3"
  },
  "language_info": {
   "codemirror_mode": {
    "name": "ipython",
    "version": 3
   },
   "file_extension": ".py",
   "mimetype": "text/x-python",
   "name": "python",
   "nbconvert_exporter": "python",
   "pygments_lexer": "ipython3",
   "version": "3.7.4"
  }
 },
 "nbformat": 4,
 "nbformat_minor": 2
}
